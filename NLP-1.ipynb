{
 "cells": [
  {
   "cell_type": "code",
   "execution_count": 2,
   "metadata": {},
   "outputs": [
    {
     "name": "stderr",
     "output_type": "stream",
     "text": [
      "Using TensorFlow backend.\n",
      "d:\\anaconda\\envs\\deeplearning\\lib\\site-packages\\tensorflow\\python\\framework\\dtypes.py:516: FutureWarning: Passing (type, 1) or '1type' as a synonym of type is deprecated; in a future version of numpy, it will be understood as (type, (1,)) / '(1,)type'.\n",
      "  _np_qint8 = np.dtype([(\"qint8\", np.int8, 1)])\n",
      "d:\\anaconda\\envs\\deeplearning\\lib\\site-packages\\tensorflow\\python\\framework\\dtypes.py:517: FutureWarning: Passing (type, 1) or '1type' as a synonym of type is deprecated; in a future version of numpy, it will be understood as (type, (1,)) / '(1,)type'.\n",
      "  _np_quint8 = np.dtype([(\"quint8\", np.uint8, 1)])\n",
      "d:\\anaconda\\envs\\deeplearning\\lib\\site-packages\\tensorflow\\python\\framework\\dtypes.py:518: FutureWarning: Passing (type, 1) or '1type' as a synonym of type is deprecated; in a future version of numpy, it will be understood as (type, (1,)) / '(1,)type'.\n",
      "  _np_qint16 = np.dtype([(\"qint16\", np.int16, 1)])\n",
      "d:\\anaconda\\envs\\deeplearning\\lib\\site-packages\\tensorflow\\python\\framework\\dtypes.py:519: FutureWarning: Passing (type, 1) or '1type' as a synonym of type is deprecated; in a future version of numpy, it will be understood as (type, (1,)) / '(1,)type'.\n",
      "  _np_quint16 = np.dtype([(\"quint16\", np.uint16, 1)])\n",
      "d:\\anaconda\\envs\\deeplearning\\lib\\site-packages\\tensorflow\\python\\framework\\dtypes.py:520: FutureWarning: Passing (type, 1) or '1type' as a synonym of type is deprecated; in a future version of numpy, it will be understood as (type, (1,)) / '(1,)type'.\n",
      "  _np_qint32 = np.dtype([(\"qint32\", np.int32, 1)])\n",
      "d:\\anaconda\\envs\\deeplearning\\lib\\site-packages\\tensorflow\\python\\framework\\dtypes.py:525: FutureWarning: Passing (type, 1) or '1type' as a synonym of type is deprecated; in a future version of numpy, it will be understood as (type, (1,)) / '(1,)type'.\n",
      "  np_resource = np.dtype([(\"resource\", np.ubyte, 1)])\n",
      "d:\\anaconda\\envs\\deeplearning\\lib\\site-packages\\tensorboard\\compat\\tensorflow_stub\\dtypes.py:541: FutureWarning: Passing (type, 1) or '1type' as a synonym of type is deprecated; in a future version of numpy, it will be understood as (type, (1,)) / '(1,)type'.\n",
      "  _np_qint8 = np.dtype([(\"qint8\", np.int8, 1)])\n",
      "d:\\anaconda\\envs\\deeplearning\\lib\\site-packages\\tensorboard\\compat\\tensorflow_stub\\dtypes.py:542: FutureWarning: Passing (type, 1) or '1type' as a synonym of type is deprecated; in a future version of numpy, it will be understood as (type, (1,)) / '(1,)type'.\n",
      "  _np_quint8 = np.dtype([(\"quint8\", np.uint8, 1)])\n",
      "d:\\anaconda\\envs\\deeplearning\\lib\\site-packages\\tensorboard\\compat\\tensorflow_stub\\dtypes.py:543: FutureWarning: Passing (type, 1) or '1type' as a synonym of type is deprecated; in a future version of numpy, it will be understood as (type, (1,)) / '(1,)type'.\n",
      "  _np_qint16 = np.dtype([(\"qint16\", np.int16, 1)])\n",
      "d:\\anaconda\\envs\\deeplearning\\lib\\site-packages\\tensorboard\\compat\\tensorflow_stub\\dtypes.py:544: FutureWarning: Passing (type, 1) or '1type' as a synonym of type is deprecated; in a future version of numpy, it will be understood as (type, (1,)) / '(1,)type'.\n",
      "  _np_quint16 = np.dtype([(\"quint16\", np.uint16, 1)])\n",
      "d:\\anaconda\\envs\\deeplearning\\lib\\site-packages\\tensorboard\\compat\\tensorflow_stub\\dtypes.py:545: FutureWarning: Passing (type, 1) or '1type' as a synonym of type is deprecated; in a future version of numpy, it will be understood as (type, (1,)) / '(1,)type'.\n",
      "  _np_qint32 = np.dtype([(\"qint32\", np.int32, 1)])\n",
      "d:\\anaconda\\envs\\deeplearning\\lib\\site-packages\\tensorboard\\compat\\tensorflow_stub\\dtypes.py:550: FutureWarning: Passing (type, 1) or '1type' as a synonym of type is deprecated; in a future version of numpy, it will be understood as (type, (1,)) / '(1,)type'.\n",
      "  np_resource = np.dtype([(\"resource\", np.ubyte, 1)])\n"
     ]
    }
   ],
   "source": [
    "import pandas as pd\n",
    "import re\n",
    "import numpy as np\n",
    "from sklearn.feature_extraction import text\n",
    "from sklearn.feature_extraction.text import TfidfVectorizer\n",
    "from sklearn.naive_bayes import MultinomialNB\n",
    "from sklearn.svm import SVC\n",
    "from sklearn.ensemble import RandomForestClassifier, AdaBoostClassifier\n",
    "from sklearn.linear_model import LogisticRegression\n",
    "from sklearn.neighbors import KNeighborsClassifier\n",
    "from sklearn.model_selection import GridSearchCV\n",
    "from sklearn.tree import DecisionTreeClassifier\n",
    "from sklearn.model_selection import train_test_split\n",
    "from sklearn.pipeline import Pipeline\n",
    "from sklearn import model_selection\n",
    "from sklearn.metrics import accuracy_score, log_loss\n",
    "import sklearn\n",
    "import string\n",
    "import seaborn as sns\n",
    "from keras.optimizers import Adam\n",
    "from nltk.stem import SnowballStemmer\n",
    "from nltk.stem import WordNetLemmatizer \n",
    "from nltk.tokenize import word_tokenize"
   ]
  },
  {
   "cell_type": "markdown",
   "metadata": {},
   "source": [
    "## Reading and analysing data"
   ]
  },
  {
   "cell_type": "code",
   "execution_count": 3,
   "metadata": {},
   "outputs": [],
   "source": [
    "\n",
    "path = \"D:/NLP_Project/Alzheimer-s-Disease-Prediction-using-NLP-master/cleaned_data.tsv\"\n",
    "df = pd.read_csv(path, sep=\"\\t\")\n",
    "\n"
   ]
  },
  {
   "cell_type": "code",
   "execution_count": 4,
   "metadata": {},
   "outputs": [
    {
     "data": {
      "text/html": [
       "<div>\n",
       "<style scoped>\n",
       "    .dataframe tbody tr th:only-of-type {\n",
       "        vertical-align: middle;\n",
       "    }\n",
       "\n",
       "    .dataframe tbody tr th {\n",
       "        vertical-align: top;\n",
       "    }\n",
       "\n",
       "    .dataframe thead th {\n",
       "        text-align: right;\n",
       "    }\n",
       "</style>\n",
       "<table border=\"1\" class=\"dataframe\">\n",
       "  <thead>\n",
       "    <tr style=\"text-align: right;\">\n",
       "      <th></th>\n",
       "      <th>Transcripts</th>\n",
       "      <th>AD</th>\n",
       "    </tr>\n",
       "  </thead>\n",
       "  <tbody>\n",
       "    <tr>\n",
       "      <th>0</th>\n",
       "      <td>there's &amp;um a young boy that's getting a cooki...</td>\n",
       "      <td>1</td>\n",
       "    </tr>\n",
       "    <tr>\n",
       "      <th>1</th>\n",
       "      <td>and it he's uh in bad shape because uh the thi...</td>\n",
       "      <td>1</td>\n",
       "    </tr>\n",
       "    <tr>\n",
       "      <th>2</th>\n",
       "      <td>and in the picture the mother is washing dishe...</td>\n",
       "      <td>1</td>\n",
       "    </tr>\n",
       "    <tr>\n",
       "      <th>3</th>\n",
       "      <td>and the dishes might get falled over if you don't</td>\n",
       "      <td>1</td>\n",
       "    </tr>\n",
       "    <tr>\n",
       "      <th>4</th>\n",
       "      <td>fell fall over there there if you don't get it</td>\n",
       "      <td>1</td>\n",
       "    </tr>\n",
       "    <tr>\n",
       "      <th>...</th>\n",
       "      <td>...</td>\n",
       "      <td>...</td>\n",
       "    </tr>\n",
       "    <tr>\n",
       "      <th>3267</th>\n",
       "      <td>the mother's standing there doing the dishes</td>\n",
       "      <td>0</td>\n",
       "    </tr>\n",
       "    <tr>\n",
       "      <th>3268</th>\n",
       "      <td>she's washing the dishes looking out the open ...</td>\n",
       "      <td>0</td>\n",
       "    </tr>\n",
       "    <tr>\n",
       "      <th>3269</th>\n",
       "      <td>and the water's runnin(g) down over the sink o...</td>\n",
       "      <td>0</td>\n",
       "    </tr>\n",
       "    <tr>\n",
       "      <th>3270</th>\n",
       "      <td>and &lt;there are&gt; [//] she's dryin(g) a dish</td>\n",
       "      <td>0</td>\n",
       "    </tr>\n",
       "    <tr>\n",
       "      <th>3271</th>\n",
       "      <td>summer of the year</td>\n",
       "      <td>0</td>\n",
       "    </tr>\n",
       "  </tbody>\n",
       "</table>\n",
       "<p>3272 rows × 2 columns</p>\n",
       "</div>"
      ],
      "text/plain": [
       "                                            Transcripts  AD\n",
       "0     there's &um a young boy that's getting a cooki...   1\n",
       "1     and it he's uh in bad shape because uh the thi...   1\n",
       "2     and in the picture the mother is washing dishe...   1\n",
       "3     and the dishes might get falled over if you don't   1\n",
       "4        fell fall over there there if you don't get it   1\n",
       "...                                                 ...  ..\n",
       "3267       the mother's standing there doing the dishes   0\n",
       "3268  she's washing the dishes looking out the open ...   0\n",
       "3269  and the water's runnin(g) down over the sink o...   0\n",
       "3270         and <there are> [//] she's dryin(g) a dish   0\n",
       "3271                                 summer of the year   0\n",
       "\n",
       "[3272 rows x 2 columns]"
      ]
     },
     "execution_count": 4,
     "metadata": {},
     "output_type": "execute_result"
    }
   ],
   "source": [
    "df"
   ]
  },
  {
   "cell_type": "code",
   "execution_count": 5,
   "metadata": {},
   "outputs": [
    {
     "data": {
      "text/plain": [
       "Transcripts    summer of the year\n",
       "AD                              0\n",
       "Name: 3271, dtype: object"
      ]
     },
     "execution_count": 5,
     "metadata": {},
     "output_type": "execute_result"
    }
   ],
   "source": [
    "df.iloc[3271]"
   ]
  },
  {
   "cell_type": "code",
   "execution_count": 83,
   "metadata": {},
   "outputs": [
    {
     "data": {
      "text/plain": [
       "3272"
      ]
     },
     "execution_count": 83,
     "metadata": {},
     "output_type": "execute_result"
    }
   ],
   "source": [
    "len(df)"
   ]
  },
  {
   "cell_type": "code",
   "execution_count": 98,
   "metadata": {},
   "outputs": [
    {
     "name": "stdout",
     "output_type": "stream",
     "text": [
      "Class 0 samples:  1676\n",
      "Class 1 samples:  1596\n"
     ]
    },
    {
     "data": {
      "image/png": "[encoded data removed]",
      "text/plain": [
       "<Figure size 432x288 with 1 Axes>"
      ]
     },
     "metadata": {
      "needs_background": "light"
     },
     "output_type": "display_data"
    }
   ],
   "source": [
    "counts, bins = np.histogram(df['AD'])\n",
    "plt.hist(bins[:-1], bins, weights=counts)\n",
    "plt.title(\"Class Distribution\")\n",
    "plt.xlabel('class')\n",
    "plt.ylabel('Frequency')\n",
    "print(\"Class 0 samples: \",len(df[df['AD']==0]))\n",
    "print(\"Class 1 samples: \",len(df[df['AD']==1]))\n",
    "plt.show()\n",
    "\n"
   ]
  },
  {
   "cell_type": "markdown",
   "metadata": {},
   "source": [
    "## Preprocess data\n",
    "1. Clean data\n",
    "2. remove stop words\n",
    "3. Apply Stemming (optional)\n",
    "3. Apply lemmatization (Optional)"
   ]
  },
  {
   "cell_type": "code",
   "execution_count": 6,
   "metadata": {},
   "outputs": [],
   "source": [
    "# clean data. Keep only english alphabets"
   ]
  },
  {
   "cell_type": "code",
   "execution_count": 8,
   "metadata": {},
   "outputs": [],
   "source": [
    "import string\n",
    "\n",
    "table = str.maketrans(string.punctuation, ' '*len(string.punctuation))\n",
    "string_punctuation_1 = string.punctuation.replace(\".\",\"\").replace(\"`\",\"\").replace(\"'\",\"\")\n",
    "table_ = str.maketrans(string_punctuation_1, ' '*len(string_punctuation_1))\n",
    "printable = set(string.printable)\n",
    "\n",
    "\n",
    "def clean_data(text):\n",
    "    \n",
    "    sentence = text.lower()\n",
    "    sentence_no_punct = sentence.translate(table_)\n",
    "    space_remove = re.sub('\\s+',' ', sentence_no_punct)\n",
    "    return space_remove\n",
    "    "
   ]
  },
  {
   "cell_type": "code",
   "execution_count": 9,
   "metadata": {},
   "outputs": [],
   "source": [
    "df['Transcripts_cleaned'] = df['Transcripts'].apply(lambda row: clean_data(row) )"
   ]
  },
  {
   "cell_type": "code",
   "execution_count": 10,
   "metadata": {},
   "outputs": [
    {
     "data": {
      "text/plain": [
       "('and the little girl has pushed over the . chair stool with the boy that uh he that was reaching up to get the cookies you know it',\n",
       " 1)"
      ]
     },
     "execution_count": 10,
     "metadata": {},
     "output_type": "execute_result"
    }
   ],
   "source": [
    "df['Transcripts_cleaned'].iloc[2051] , df['AD'].iloc[2051]"
   ]
  },
  {
   "cell_type": "code",
   "execution_count": 99,
   "metadata": {},
   "outputs": [],
   "source": [
    "#stemming data (optional)"
   ]
  },
  {
   "cell_type": "code",
   "execution_count": 11,
   "metadata": {},
   "outputs": [],
   "source": [
    "stemmer = SnowballStemmer('english')\n",
    "def stem_words(text):\n",
    "    text = text.split()\n",
    "    stemmed_words = [stemmer.stem(word) for word in text]\n",
    "    text = \" \".join(stemmed_words)\n",
    "    return text"
   ]
  },
  {
   "cell_type": "code",
   "execution_count": 12,
   "metadata": {},
   "outputs": [],
   "source": [
    "df['Transcripts_stem'] = df['Transcripts_cleaned'].apply(lambda row: stem_words(row))"
   ]
  },
  {
   "cell_type": "code",
   "execution_count": 13,
   "metadata": {},
   "outputs": [
    {
     "data": {
      "text/plain": [
       "0               there um a young boy that get a cooki jar\n",
       "1        and it he uh in bad shape becaus uh the thing is\n",
       "2       and in the pictur the mother is wash dish and ...\n",
       "3           and the dish might get fall over if you don't\n",
       "4          fell fall over there there if you don't get it\n",
       "                              ...                        \n",
       "3267                   the mother stand there do the dish\n",
       "3268         she wash the dish look out the open window .\n",
       "3269    and the water runnin g down over the sink on o...\n",
       "3270                     and there are she dryin g a dish\n",
       "3271                                   summer of the year\n",
       "Name: Transcripts_stem, Length: 3272, dtype: object"
      ]
     },
     "execution_count": 13,
     "metadata": {},
     "output_type": "execute_result"
    }
   ],
   "source": [
    "df['Transcripts_stem']"
   ]
  },
  {
   "cell_type": "code",
   "execution_count": null,
   "metadata": {},
   "outputs": [],
   "source": [
    "#Lemmatizing data (optional)"
   ]
  },
  {
   "cell_type": "code",
   "execution_count": 15,
   "metadata": {},
   "outputs": [],
   "source": [
    "lemmatizer = WordNetLemmatizer() "
   ]
  },
  {
   "cell_type": "code",
   "execution_count": 16,
   "metadata": {},
   "outputs": [],
   "source": [
    "df['Transcripts_lem'] = df['Transcripts_cleaned'].apply(lambda row: \" \".join([lemmatizer.lemmatize(i) for i in word_tokenize(row)]))"
   ]
  },
  {
   "cell_type": "code",
   "execution_count": 17,
   "metadata": {},
   "outputs": [
    {
     "data": {
      "text/plain": [
       "0       there 's um a young boy that 's getting a cook...\n",
       "1       and it he 's uh in bad shape because uh the th...\n",
       "2       and in the picture the mother is washing dish ...\n",
       "3        and the dish might get falled over if you do n't\n",
       "4         fell fall over there there if you do n't get it\n",
       "                              ...                        \n",
       "3267          the mother 's standing there doing the dish\n",
       "3268    she 's washing the dish looking out the open w...\n",
       "3269    and the water 's runnin g down over the sink o...\n",
       "3270                  and there are she 's dryin g a dish\n",
       "3271                                   summer of the year\n",
       "Name: Transcripts_lem, Length: 3272, dtype: object"
      ]
     },
     "execution_count": 17,
     "metadata": {},
     "output_type": "execute_result"
    }
   ],
   "source": [
    "df['Transcripts_lem']"
   ]
  },
  {
   "cell_type": "markdown",
   "metadata": {},
   "source": [
    "## TF-IDF approach"
   ]
  },
  {
   "cell_type": "code",
   "execution_count": 18,
   "metadata": {},
   "outputs": [],
   "source": [
    "#transforming sentences to vectors\n",
    "\n",
    "\n",
    "vectorizer = TfidfVectorizer(stop_words='english',max_features=1000,min_df=5, max_df=0.9) \n",
    "X = vectorizer.fit_transform(df['Transcripts_cleaned'].tolist())"
   ]
  },
  {
   "cell_type": "code",
   "execution_count": 19,
   "metadata": {},
   "outputs": [
    {
     "data": {
      "text/plain": [
       "(3272, 316)"
      ]
     },
     "execution_count": 19,
     "metadata": {},
     "output_type": "execute_result"
    }
   ],
   "source": [
    "X.shape"
   ]
  },
  {
   "cell_type": "code",
   "execution_count": 20,
   "metadata": {},
   "outputs": [
    {
     "data": {
      "text/plain": [
       "[('age', 7.301702805273125),\n",
       " ('anybody', 7.301702805273125),\n",
       " ('climbing', 7.301702805273125),\n",
       " ('curved', 7.301702805273125),\n",
       " ('daughter', 7.301702805273125),\n",
       " ('di', 7.301702805273125),\n",
       " ('dressed', 7.301702805273125),\n",
       " ('eat', 7.301702805273125),\n",
       " ('fairly', 7.301702805273125),\n",
       " ('giving', 7.301702805273125),\n",
       " ('handle', 7.301702805273125),\n",
       " ('head', 7.301702805273125),\n",
       " ('hit', 7.301702805273125),\n",
       " ('knows', 7.301702805273125),\n",
       " ('lip', 7.301702805273125),\n",
       " ('movement', 7.301702805273125),\n",
       " ('notice', 7.301702805273125),\n",
       " ('old', 7.301702805273125),\n",
       " ('outta', 7.301702805273125),\n",
       " ('overspilling', 7.301702805273125),\n",
       " ('pourin', 7.301702805273125),\n",
       " ('reason', 7.301702805273125),\n",
       " ('scene', 7.301702805273125),\n",
       " ('shocked', 7.301702805273125),\n",
       " ('sleeveless', 7.301702805273125),\n",
       " ('slight', 7.301702805273125),\n",
       " ('spilled', 7.301702805273125),\n",
       " ('splashin', 7.301702805273125),\n",
       " ('stealin', 7.301702805273125),\n",
       " ('tennis', 7.301702805273125),\n",
       " ('towel', 7.301702805273125),\n",
       " ('tumbles', 7.301702805273125),\n",
       " ('upset', 7.301702805273125),\n",
       " ('year', 7.301702805273125),\n",
       " ('years', 7.301702805273125),\n",
       " ('air', 7.147552125445867),\n",
       " ('asking', 7.147552125445867),\n",
       " ('believe', 7.147552125445867),\n",
       " ('bowls', 7.147552125445867),\n",
       " ('break', 7.147552125445867),\n",
       " ('clear', 7.147552125445867),\n",
       " ('cloth', 7.147552125445867),\n",
       " ('corner', 7.147552125445867),\n",
       " ('cupboards', 7.147552125445867),\n",
       " ('doors', 7.147552125445867),\n",
       " ('dripping', 7.147552125445867),\n",
       " ('driveway', 7.147552125445867),\n",
       " ('end', 7.147552125445867),\n",
       " ('faucets', 7.147552125445867),\n",
       " ('finished', 7.147552125445867),\n",
       " ('god', 7.147552125445867),\n",
       " ('guy', 7.147552125445867),\n",
       " ('hair', 7.147552125445867),\n",
       " ('hard', 7.147552125445867),\n",
       " ('hasta', 7.147552125445867),\n",
       " ('jerk', 7.147552125445867),\n",
       " ('laughin', 7.147552125445867),\n",
       " ('lettin', 7.147552125445867),\n",
       " ('lot', 7.147552125445867),\n",
       " ('make', 7.147552125445867),\n",
       " ('mistakes', 7.147552125445867),\n",
       " ('opened', 7.147552125445867),\n",
       " ('pathway', 7.147552125445867),\n",
       " ('reach', 7.147552125445867),\n",
       " ('sakes', 7.147552125445867),\n",
       " ('second', 7.147552125445867),\n",
       " ('shrubs', 7.147552125445867),\n",
       " ('sleeve', 7.147552125445867),\n",
       " ('sleeves', 7.147552125445867),\n",
       " ('sposta', 7.147552125445867),\n",
       " ('standin', 7.147552125445867),\n",
       " ('starting', 7.147552125445867),\n",
       " ('steal', 7.147552125445867),\n",
       " ('told', 7.147552125445867),\n",
       " ('upsetting', 7.147552125445867),\n",
       " ('upside', 7.147552125445867),\n",
       " ('wash', 7.147552125445867),\n",
       " ('washed', 7.147552125445867),\n",
       " ('washes', 7.147552125445867),\n",
       " ('way', 7.147552125445867),\n",
       " ('went', 7.147552125445867),\n",
       " ('wife', 7.147552125445867),\n",
       " ('windo', 7.147552125445867),\n",
       " ('windows', 7.147552125445867),\n",
       " ('building', 7.014020732821344),\n",
       " ('climbed', 7.014020732821344),\n",
       " ('growing', 7.014020732821344),\n",
       " ('ha', 7.014020732821344),\n",
       " ('holding', 7.014020732821344),\n",
       " ('lookin', 7.014020732821344),\n",
       " ('meantime', 7.014020732821344),\n",
       " ('overflow', 7.014020732821344),\n",
       " ('pouring', 7.014020732821344),\n",
       " ('sandals', 7.014020732821344),\n",
       " ('seven', 7.014020732821344),\n",
       " ('slipping', 7.014020732821344),\n",
       " ('somethin', 7.014020732821344),\n",
       " ('thinking', 7.014020732821344),\n",
       " ('wants', 7.014020732821344),\n",
       " ('working', 7.014020732821344),\n",
       " ('comes', 6.8962376971649615),\n",
       " ('couple', 6.8962376971649615),\n",
       " ('crooked', 6.8962376971649615),\n",
       " ('dry', 6.8962376971649615),\n",
       " ('handles', 6.8962376971649615),\n",
       " ('hurt', 6.8962376971649615),\n",
       " ('lawn', 6.8962376971649615),\n",
       " ('legged', 6.8962376971649615),\n",
       " ('lips', 6.8962376971649615),\n",
       " ('long', 6.8962376971649615),\n",
       " ('man', 6.8962376971649615),\n",
       " ('really', 6.8962376971649615),\n",
       " ('sayin', 6.8962376971649615),\n",
       " ('shushing', 6.8962376971649615),\n",
       " ('trees', 6.8962376971649615),\n",
       " ('tripping', 6.8962376971649615),\n",
       " ('wearing', 6.8962376971649615),\n",
       " ('child', 6.790877181507135),\n",
       " ('come', 6.790877181507135),\n",
       " ('day', 6.790877181507135),\n",
       " ('daydreaming', 6.790877181507135),\n",
       " ('kid', 6.790877181507135),\n",
       " ('letting', 6.790877181507135),\n",
       " ('ll', 6.790877181507135),\n",
       " ('nice', 6.790877181507135),\n",
       " ('pretty', 6.790877181507135),\n",
       " ('step', 6.790877181507135),\n",
       " ('tilting', 6.790877181507135),\n",
       " ('tip', 6.790877181507135),\n",
       " ('tipped', 6.790877181507135),\n",
       " ('walk', 6.790877181507135),\n",
       " ('better', 6.69556700170281),\n",
       " ('cascading', 6.69556700170281),\n",
       " ('drapes', 6.69556700170281),\n",
       " ('dried', 6.69556700170281),\n",
       " ('em', 6.69556700170281),\n",
       " ('foot', 6.69556700170281),\n",
       " ('ladder', 6.69556700170281),\n",
       " ('path', 6.69556700170281),\n",
       " ('paying', 6.69556700170281),\n",
       " ('reachin', 6.69556700170281),\n",
       " ('sighs', 6.69556700170281),\n",
       " ('son', 6.69556700170281),\n",
       " ('sort', 6.69556700170281),\n",
       " ('ve', 6.69556700170281),\n",
       " ('yard', 6.69556700170281),\n",
       " ('course', 6.60855562471318),\n",
       " ('flowing', 6.60855562471318),\n",
       " ('forgot', 6.60855562471318),\n",
       " ('handin', 6.60855562471318),\n",
       " ('mama', 6.60855562471318),\n",
       " ('obviously', 6.60855562471318),\n",
       " ('wind', 6.60855562471318),\n",
       " ('apron', 6.528512917039643),\n",
       " ('attention', 6.528512917039643),\n",
       " ('bit', 6.528512917039643),\n",
       " ('blowin', 6.528512917039643),\n",
       " ('doin', 6.528512917039643),\n",
       " ('fact', 6.528512917039643),\n",
       " ('fallin', 6.528512917039643),\n",
       " ('isn', 6.528512917039643),\n",
       " ('sh', 6.528512917039643),\n",
       " ('summertime', 6.528512917039643),\n",
       " ('takin', 6.528512917039643),\n",
       " ('turned', 6.528512917039643),\n",
       " ('uk', 6.528512917039643),\n",
       " ('warm', 6.528512917039643),\n",
       " ('washin', 6.528512917039643),\n",
       " ('cup', 6.454404944885922),\n",
       " ('place', 6.454404944885922),\n",
       " ('probably', 6.454404944885922),\n",
       " ('runnin', 6.454404944885922),\n",
       " ('stepping', 6.454404944885922),\n",
       " ('time', 6.454404944885922),\n",
       " ('young', 6.454404944885922),\n",
       " ('cabinets', 6.38541207339897),\n",
       " ('didn', 6.38541207339897),\n",
       " ('dress', 6.38541207339897),\n",
       " ('fell', 6.38541207339897),\n",
       " ('happening', 6.38541207339897),\n",
       " ('hear', 6.38541207339897),\n",
       " ('oblivious', 6.38541207339897),\n",
       " ('plates', 6.38541207339897),\n",
       " ('sitting', 6.38541207339897),\n",
       " ('splashing', 6.38541207339897),\n",
       " ('start', 6.38541207339897),\n",
       " ('trunk', 6.38541207339897),\n",
       " ('bushes', 6.320873552261399),\n",
       " ('clears', 6.320873552261399),\n",
       " ('somebody', 6.320873552261399),\n",
       " ('telling', 6.320873552261399),\n",
       " ('thing', 6.320873552261399),\n",
       " ('turn', 6.320873552261399),\n",
       " ('brother', 6.260248930444964),\n",
       " ('cabinet', 6.260248930444964),\n",
       " ('puddle', 6.260248930444964),\n",
       " ('shoes', 6.260248930444964),\n",
       " ('tryin', 6.260248930444964),\n",
       " ('shrubbery', 6.203090516605016),\n",
       " ('alright', 6.14902329533474),\n",
       " ('gettin', 6.14902329533474),\n",
       " ('kind', 6.14902329533474),\n",
       " ('laughing', 6.14902329533474),\n",
       " ('mean', 6.14902329533474),\n",
       " ('short', 6.14902329533474),\n",
       " ('spilling', 6.14902329533474),\n",
       " ('throat', 6.14902329533474),\n",
       " ('hm', 6.097730000947189),\n",
       " ('mouth', 6.097730000947189),\n",
       " ('picture', 6.097730000947189),\n",
       " ('taking', 6.097730000947189),\n",
       " ('th', 6.097730000947189),\n",
       " ('faucet', 6.048939836777757),\n",
       " ('gram', 6.048939836777757),\n",
       " ('mhm', 6.048939836777757),\n",
       " ('ret', 6.048939836777757),\n",
       " ('saucer', 6.048939836777757),\n",
       " ('yeah', 6.048939836777757),\n",
       " ('coming', 6.0024198211428645),\n",
       " ('finger', 6.0024198211428645),\n",
       " ('breeze', 5.957968058572031),\n",
       " ('garden', 5.957968058572031),\n",
       " ('quiet', 5.957968058572031),\n",
       " ('action', 5.915408444153235),\n",
       " ('dryin', 5.915408444153235),\n",
       " ('garage', 5.915408444153235),\n",
       " ('apparently', 5.87458644963298),\n",
       " ('cause', 5.87458644963298),\n",
       " ('grass', 5.87458644963298),\n",
       " ('woman', 5.87458644963298),\n",
       " ('chair', 5.835365736479699),\n",
       " ('got', 5.835365736479699),\n",
       " ('run', 5.835365736479699),\n",
       " ('shh', 5.835365736479699),\n",
       " ('stealing', 5.835365736479699),\n",
       " ('summer', 5.835365736479699),\n",
       " ('wet', 5.835365736479699),\n",
       " ('blowing', 5.7976254084968515),\n",
       " ('goin', 5.7976254084968515),\n",
       " ('said', 5.7976254084968515),\n",
       " ('things', 5.7976254084968515),\n",
       " ('did', 5.761257764325976),\n",
       " ('tipping', 5.761257764325976),\n",
       " ('handing', 5.726166444514706),\n",
       " ('look', 5.726166444514706),\n",
       " ('ready', 5.726166444514706),\n",
       " ('tree', 5.726166444514706),\n",
       " ('children', 5.659475070016034),\n",
       " ('exc', 5.659475070016034),\n",
       " ('lid', 5.659475070016034),\n",
       " ('doing', 5.627726371701454),\n",
       " ('maybe', 5.627726371701454),\n",
       " ('trying', 5.627726371701454),\n",
       " ('cupboard', 5.5969547130347),\n",
       " ('feet', 5.5969547130347),\n",
       " ('left', 5.5969547130347),\n",
       " ('wiping', 5.5969547130347),\n",
       " ('right', 5.567101749885019),\n",
       " ('say', 5.538114213011767),\n",
       " ('saying', 5.538114213011767),\n",
       " ('house', 5.509943336045071),\n",
       " ('tell', 5.482544361856956),\n",
       " ('doesn', 5.429900628371534),\n",
       " ('lady', 5.429900628371534),\n",
       " ('want', 5.404582820387244),\n",
       " ('okay', 5.309272640582919),\n",
       " ('door', 5.2648208780120855),\n",
       " ('kids', 5.243314672791122),\n",
       " ('guess', 5.201641976390554),\n",
       " ('let', 5.181439269073034),\n",
       " ('sister', 5.161636641776854),\n",
       " ('just', 5.123170360949059),\n",
       " ('looking', 5.104478227936906),\n",
       " ('outside', 5.104478227936906),\n",
       " ('plate', 5.104478227936906),\n",
       " ('counter', 5.086129089268709),\n",
       " ('think', 5.0330192639547615),\n",
       " ('know', 4.888769655110215),\n",
       " ('dish', 4.873954569325074),\n",
       " ('xxx', 4.873954569325074),\n",
       " ('cups', 4.830782397459865),\n",
       " ('curtains', 4.830782397459865),\n",
       " ('washing', 4.830782397459865),\n",
       " ('hand', 4.78939718129701),\n",
       " ('falling', 4.77597416096487),\n",
       " ('gonna', 4.77597416096487),\n",
       " ('kitchen', 4.724014422034159),\n",
       " ('getting', 4.6990131198287415),\n",
       " ('going', 4.6990131198287415),\n",
       " ('laughs', 4.6990131198287415),\n",
       " ('looks', 4.627554155846597),\n",
       " ('oh', 4.627554155846597),\n",
       " ('fall', 4.57167369745214),\n",
       " ('overflowing', 4.550167492231177),\n",
       " ('standing', 4.478341757659921),\n",
       " ('running', 4.449071375359807),\n",
       " ('drying', 4.430023180389114),\n",
       " ('like', 4.402114392272036),\n",
       " ('open', 4.383932073188847),\n",
       " ('reaching', 4.36607445578884),\n",
       " ('don', 4.2731807088961435),\n",
       " ('floor', 4.151819851891876),\n",
       " ('cookies', 4.056509672087552),\n",
       " ('um', 3.9286763005776666),\n",
       " ('window', 3.8949652432353545),\n",
       " ('little', 3.7321701087917556),\n",
       " ('sink', 3.6685122570197777),\n",
       " ('girl', 3.6296304694755706),\n",
       " ('stool', 3.604524548344494),\n",
       " ('dishes', 3.5881307385688177),\n",
       " ('boy', 3.572001356638934),\n",
       " ('jar', 3.5600727857736603),\n",
       " ('water', 3.5024752939903236),\n",
       " ('mother', 3.4950403155028056),\n",
       " ('cookie', 3.2586515374385754),\n",
       " ('uh', 2.716735326602554)]"
      ]
     },
     "execution_count": 20,
     "metadata": {},
     "output_type": "execute_result"
    }
   ],
   "source": [
    "#checking the weights assigned to each word\n",
    "\n",
    "sorted([x for x in zip(vectorizer.get_feature_names(), vectorizer.idf_)], key=lambda x:x[1], reverse=True)"
   ]
  },
  {
   "cell_type": "code",
   "execution_count": 21,
   "metadata": {},
   "outputs": [],
   "source": [
    "X = X.toarray()\n",
    "y= np.array(df['AD'].tolist())"
   ]
  },
  {
   "cell_type": "code",
   "execution_count": 22,
   "metadata": {},
   "outputs": [],
   "source": [
    "X_train, X_test, y_train, y_test = train_test_split( X, y, test_size=0.2)"
   ]
  },
  {
   "cell_type": "code",
   "execution_count": 23,
   "metadata": {},
   "outputs": [],
   "source": [
    "models_f1 = []\n",
    "models_f1.append((LogisticRegression()))\n",
    "#models.append(('GSearch', LinearDiscriminantAnalysis()))\n",
    "models_f1.append(( KNeighborsClassifier()))\n",
    "models_f1.append((DecisionTreeClassifier()))\n",
    "models_f1.append((MultinomialNB()))\n",
    "models_f1.append((SVC(kernel=\"linear\", C=0.1,probability=True)))\n",
    "models_f1.append((RandomForestClassifier()))\n",
    "models_f1.append((AdaBoostClassifier()))"
   ]
  },
  {
   "cell_type": "code",
   "execution_count": 24,
   "metadata": {},
   "outputs": [
    {
     "name": "stdout",
     "output_type": "stream",
     "text": [
      "==============================\n",
      "LogisticRegression\n",
      "****Results****\n",
      "Accuracy: 68.5496%\n",
      "****F1 score,Precision and recall****\n",
      "f1_score: 0.6854778554778554 , Precison: 0.6854755999776232, Recall: 0.6854928947073962, Individual_f1: [0.68787879 0.68307692]\n",
      "(array([0.6809816, 0.6899696]), array([0.68518519, 0.6858006 ]), array([0.68307692, 0.68787879]), array([324, 331], dtype=int64))\n",
      "***confusion matrix****\n"
     ]
    },
    {
     "data": {
      "image/png": "[encoded data removed]",
      "text/plain": [
       "<Figure size 432x288 with 2 Axes>"
      ]
     },
     "metadata": {
      "needs_background": "light"
     },
     "output_type": "display_data"
    },
    {
     "name": "stdout",
     "output_type": "stream",
     "text": [
      "Log Loss: 0.5912699211672712\n",
      "==============================\n",
      "KNeighborsClassifier\n",
      "****Results****\n",
      "Accuracy: 71.2977%\n",
      "****F1 score,Precision and recall****\n",
      "f1_score: 0.7120582898404326 , Precison: 0.7146767294175288, Recall: 0.7124547760247659, Individual_f1: [0.7283237  0.69579288]\n",
      "(array([0.73129252, 0.69806094]), array([0.66358025, 0.76132931]), array([0.69579288, 0.7283237 ]), array([324, 331], dtype=int64))\n",
      "***confusion matrix****\n"
     ]
    },
    {
     "data": {
      "image/png": "[encoded data removed]",
      "text/plain": [
       "<Figure size 432x288 with 2 Axes>"
      ]
     },
     "metadata": {
      "needs_background": "light"
     },
     "output_type": "display_data"
    },
    {
     "name": "stdout",
     "output_type": "stream",
     "text": [
      "Log Loss: 2.05473574551026\n",
      "==============================\n",
      "DecisionTreeClassifier\n",
      "****Results****\n",
      "Accuracy: 83.9695%\n",
      "****F1 score,Precision and recall****\n",
      "f1_score: 0.8396886778599051 , Precison: 0.839687290221526, Recall: 0.8397252993174443, Individual_f1: [0.84066768 0.83870968]\n",
      "(array([0.83486239, 0.8445122 ]), array([0.84259259, 0.83685801]), array([0.83870968, 0.84066768]), array([324, 331], dtype=int64))\n",
      "***confusion matrix****\n"
     ]
    },
    {
     "data": {
      "image/png": "[encoded data removed]",
      "text/plain": [
       "<Figure size 432x288 with 2 Axes>"
      ]
     },
     "metadata": {
      "needs_background": "light"
     },
     "output_type": "display_data"
    },
    {
     "name": "stdout",
     "output_type": "stream",
     "text": [
      "Log Loss: 1.9757199300323958\n",
      "==============================\n",
      "MultinomialNB\n",
      "****Results****\n",
      "Accuracy: 67.9389%\n",
      "****F1 score,Precision and recall****\n",
      "f1_score: 0.6778688524590164 , Precison: 0.6816286694335474, Recall: 0.6787326097497296, Individual_f1: [0.7       0.6557377]\n",
      "(array([0.6993007 , 0.66395664]), array([0.61728395, 0.74018127]), array([0.6557377, 0.7      ]), array([324, 331], dtype=int64))\n",
      "***confusion matrix****\n"
     ]
    },
    {
     "data": {
      "image/png": "[encoded data removed]",
      "text/plain": [
       "<Figure size 432x288 with 2 Axes>"
      ]
     },
     "metadata": {
      "needs_background": "light"
     },
     "output_type": "display_data"
    },
    {
     "name": "stdout",
     "output_type": "stream",
     "text": [
      "Log Loss: 0.5907658163829599\n",
      "==============================\n",
      "SVC\n",
      "****Results****\n",
      "Accuracy: 62.5954%\n",
      "****F1 score,Precision and recall****\n",
      "f1_score: 0.6028446199954957 , Precison: 0.6587676588396134, Recall: 0.6234474655924807, Individual_f1: [0.69864699 0.50704225]\n",
      "(array([0.7283237 , 0.58921162]), array([0.38888889, 0.85800604]), array([0.50704225, 0.69864699]), array([324, 331], dtype=int64))\n",
      "***confusion matrix****\n"
     ]
    },
    {
     "data": {
      "image/png": "[encoded data removed]",
      "text/plain": [
       "<Figure size 432x288 with 2 Axes>"
      ]
     },
     "metadata": {
      "needs_background": "light"
     },
     "output_type": "display_data"
    },
    {
     "name": "stdout",
     "output_type": "stream",
     "text": [
      "Log Loss: 0.6239462481623921\n",
      "==============================\n",
      "RandomForestClassifier\n",
      "****Results****\n",
      "Accuracy: 84.5802%\n",
      "****F1 score,Precision and recall****\n",
      "f1_score: 0.8458015267175573 , Precison: 0.8458981388236172, Recall: 0.8458981388236172, Individual_f1: [0.84580153 0.84580153]\n",
      "(array([0.83685801, 0.85493827]), array([0.85493827, 0.83685801]), array([0.84580153, 0.84580153]), array([324, 331], dtype=int64))\n",
      "***confusion matrix****\n"
     ]
    },
    {
     "data": {
      "image/png": "[encoded data removed]",
      "text/plain": [
       "<Figure size 432x288 with 2 Axes>"
      ]
     },
     "metadata": {
      "needs_background": "light"
     },
     "output_type": "display_data"
    },
    {
     "name": "stdout",
     "output_type": "stream",
     "text": [
      "Log Loss: 0.36859770890198745\n",
      "==============================\n",
      "AdaBoostClassifier\n",
      "****Results****\n",
      "Accuracy: 63.9695%\n",
      "****F1 score,Precision and recall****\n",
      "f1_score: 0.6309189540236473 , Precison: 0.6574281680783922, Recall: 0.6414158367834097, Individual_f1: [0.57400722 0.68783069]\n",
      "(array([0.60185185, 0.71300448]), array([0.80246914, 0.48036254]), array([0.68783069, 0.57400722]), array([324, 331], dtype=int64))\n",
      "***confusion matrix****\n"
     ]
    },
    {
     "data": {
      "image/png": "[encoded data removed]",
      "text/plain": [
       "<Figure size 432x288 with 2 Axes>"
      ]
     },
     "metadata": {
      "needs_background": "light"
     },
     "output_type": "display_data"
    },
    {
     "name": "stdout",
     "output_type": "stream",
     "text": [
      "Log Loss: 0.6751519985292669\n"
     ]
    }
   ],
   "source": [
    "from sklearn.metrics import confusion_matrix\n",
    "import matplotlib.pyplot as plt\n",
    "from sklearn.metrics import precision_recall_fscore_support\n",
    "%matplotlib inline\n",
    "log_cols=[\"Classifier\", \"Accuracy\", \"Log Loss\"]\n",
    "log = pd.DataFrame(columns=log_cols)\n",
    "for clf in models_f1:\n",
    "    clf.fit(X_train, y_train)\n",
    "    name = clf.__class__.__name__\n",
    "    \n",
    "    print(\"=\"*30)\n",
    "    print(name)\n",
    "    \n",
    "    print('****Results****')\n",
    "    train_predictions = clf.predict(X_test)\n",
    "    acc = accuracy_score(y_test, train_predictions)\n",
    "    print(\"Accuracy: {:.4%}\".format(acc))\n",
    "    \n",
    "    print('****F1 score,Precision and recall****')\n",
    "    f1_score = sklearn.metrics.f1_score(y_test, train_predictions,average='macro')\n",
    "    Precision = sklearn.metrics.precision_score(y_test, train_predictions,average='macro')\n",
    "    Recall = sklearn.metrics.recall_score(y_test, train_predictions,average='macro')\n",
    "    individual_f1 = sklearn.metrics.f1_score(y_test, train_predictions, average=None)\n",
    "    print(\"f1_score: {} , Precison: {}, Recall: {}, Individual_f1: {}\".format(f1_score,Precision,Recall,individual_f1))\n",
    "    print(precision_recall_fscore_support(y_test, train_predictions, average=None, labels=df['AD'].unique()))\n",
    "    print('***confusion matrix****')\n",
    "    classes = df['AD'].unique()\n",
    "    cm = confusion_matrix(y_test, train_predictions)\n",
    "    fig, ax = plt.subplots()\n",
    "    cmap=plt.cm.Blues\n",
    "    im = ax.imshow(cm, interpolation='nearest', cmap=cmap)\n",
    "    ax.figure.colorbar(im, ax=ax)\n",
    "    # We want to show all ticks...\n",
    "    ax.set(xticks=np.arange(cm.shape[1]),\n",
    "           yticks=np.arange(cm.shape[0]),\n",
    "           # ... and label them with the respective list entries\n",
    "           xticklabels=classes, yticklabels=classes,\n",
    "           title=\"Non normalized table\",\n",
    "           ylabel='True label',\n",
    "           xlabel='Predicted label')\n",
    "\n",
    "    # Rotate the tick labels and set their alignment.\n",
    "    plt.setp(ax.get_xticklabels(), rotation=45, ha=\"right\",\n",
    "             rotation_mode=\"anchor\")\n",
    "\n",
    "    # Loop over data dimensions and create text annotations.\n",
    "    normalize = False\n",
    "    fmt = '.2f' if normalize else 'd'\n",
    "    thresh = cm.max() / 2.\n",
    "    for i in range(cm.shape[0]):\n",
    "        for j in range(cm.shape[1]):\n",
    "            ax.text(j, i, format(cm[i, j], fmt),\n",
    "                    ha=\"center\", va=\"center\",\n",
    "                    color=\"white\" if cm[i, j] > thresh else \"black\")\n",
    "    fig.tight_layout()\n",
    "    plt.show()\n",
    "    \n",
    "    train_predictions = clf.predict_proba(X_test)\n",
    "    ll = log_loss(y_test, train_predictions)\n",
    "    print(\"Log Loss: {}\".format(ll))\n",
    "    \n",
    "    log_entry = pd.DataFrame([[name, acc*100, ll]], columns=log_cols)\n",
    "    log = log.append(log_entry)"
   ]
  },
  {
   "cell_type": "markdown",
   "metadata": {},
   "source": [
    "### Grid Search + SVM "
   ]
  },
  {
   "cell_type": "code",
   "execution_count": 40,
   "metadata": {},
   "outputs": [
    {
     "name": "stdout",
     "output_type": "stream",
     "text": [
      "GridSearchCV(cv=None, error_score=nan,\n",
      "             estimator=SVC(C=1.0, break_ties=False, cache_size=200,\n",
      "                           class_weight=None, coef0=0.0,\n",
      "                           decision_function_shape='ovr', degree=3,\n",
      "                           gamma='scale', kernel='rbf', max_iter=-1,\n",
      "                           probability=True, random_state=None, shrinking=True,\n",
      "                           tol=0.001, verbose=False),\n",
      "             iid='deprecated', n_jobs=None,\n",
      "             param_grid={'C': [0.01, 10], 'kernel': ('linear', 'rbf')},\n",
      "             pre_dispatch='2*n_jobs', refit=True, return_train_score=False,\n",
      "             scoring=None, verbose=0)\n",
      "0.8259541984732824\n",
      "[[272  59]\n",
      " [ 55 269]]\n",
      "(array([0.83180428, 0.82012195]), array([0.82175227, 0.83024691]), array([0.82674772, 0.82515337]), array([331, 324], dtype=int64))\n"
     ]
    }
   ],
   "source": [
    "from sklearn.model_selection import GridSearchCV\n",
    "from sklearn.metrics import precision_recall_fscore_support, classification_report\n",
    "from sklearn.externals import joblib\n",
    "svc = SVC(probability=True)\n",
    "parameters = {'kernel':('linear','rbf'), 'C':[0.01, 10]}\n",
    "model = GridSearchCV(svc,parameters)\n",
    "model.fit(X_train, y_train)\n",
    "print(model)\n",
    "y_pred = model.predict(X_test)\n",
    "acc = accuracy_score(y_test, y_pred)\n",
    "\n",
    "labels = [0, 1]\n",
    "print(accuracy_score(y_test, y_pred))\n",
    "print(confusion_matrix(y_test, y_pred))\n",
    "print(precision_recall_fscore_support(y_test, y_pred, average=None, labels= labels))\n"
   ]
  },
  {
   "cell_type": "code",
   "execution_count": 41,
   "metadata": {},
   "outputs": [
    {
     "name": "stdout",
     "output_type": "stream",
     "text": [
      "              precision    recall  f1-score   support\n",
      "\n",
      "           0       0.83      0.82      0.83       331\n",
      "           1       0.82      0.83      0.83       324\n",
      "\n",
      "    accuracy                           0.83       655\n",
      "   macro avg       0.83      0.83      0.83       655\n",
      "weighted avg       0.83      0.83      0.83       655\n",
      "\n"
     ]
    }
   ],
   "source": [
    "print(classification_report(y_test,y_pred))"
   ]
  },
  {
   "cell_type": "code",
   "execution_count": 42,
   "metadata": {},
   "outputs": [
    {
     "data": {
      "image/png": "[encoded data removed]",
      "text/plain": [
       "<Figure size 432x288 with 1 Axes>"
      ]
     },
     "metadata": {
      "needs_background": "light"
     },
     "output_type": "display_data"
    }
   ],
   "source": [
    "from sklearn.metrics import roc_curve , roc_auc_score\n",
    "y_probas = model.predict_proba(X_test)[:,1]\n",
    "#skplt.metrics.plot_roc_curve(y_test, y_probas)\n",
    "fpr, tpr, thresholds = roc_curve(y_test, y_probas)\n",
    "#roc_auc = roc_auc_score(y_test, scores)\n",
    "plt.plot(fpr, tpr)\n",
    "\n",
    "plt.title(\"ROC Curve\")\n",
    "\n",
    "plt.xlabel(\"False Positive Rate\")\n",
    "\n",
    "plt.ylabel(\"True Positive Rate\")\n",
    "\n",
    "plt.show()"
   ]
  },
  {
   "cell_type": "markdown",
   "metadata": {},
   "source": [
    "### Random Forest"
   ]
  },
  {
   "cell_type": "code",
   "execution_count": 43,
   "metadata": {},
   "outputs": [
    {
     "name": "stdout",
     "output_type": "stream",
     "text": [
      "RandomForestClassifier(bootstrap=True, ccp_alpha=0.0, class_weight=None,\n",
      "                       criterion='gini', max_depth=None, max_features='auto',\n",
      "                       max_leaf_nodes=None, max_samples=None,\n",
      "                       min_impurity_decrease=0.0, min_impurity_split=None,\n",
      "                       min_samples_leaf=1, min_samples_split=2,\n",
      "                       min_weight_fraction_leaf=0.0, n_estimators=100,\n",
      "                       n_jobs=None, oob_score=False, random_state=None,\n",
      "                       verbose=0, warm_start=False)\n",
      "0.8320610687022901\n",
      "[[270  61]\n",
      " [ 49 275]]\n",
      "(array([0.84639498, 0.81845238]), array([0.81570997, 0.84876543]), array([0.83076923, 0.83333333]), array([331, 324], dtype=int64))\n",
      "              precision    recall  f1-score   support\n",
      "\n",
      "           0       0.85      0.82      0.83       331\n",
      "           1       0.82      0.85      0.83       324\n",
      "\n",
      "    accuracy                           0.83       655\n",
      "   macro avg       0.83      0.83      0.83       655\n",
      "weighted avg       0.83      0.83      0.83       655\n",
      "\n"
     ]
    }
   ],
   "source": [
    "model_rf = RandomForestClassifier()\n",
    "model_rf.fit(X_train, y_train)\n",
    "print(model_rf)\n",
    "y_pred = model_rf.predict(X_test)\n",
    "acc = accuracy_score(y_test, y_pred)\n",
    "\n",
    "labels = [0, 1]\n",
    "print(accuracy_score(y_test, y_pred))\n",
    "print(confusion_matrix(y_test, y_pred))\n",
    "print(precision_recall_fscore_support(y_test, y_pred, average=None, labels= labels))\n",
    "print(classification_report(y_test,y_pred))"
   ]
  },
  {
   "cell_type": "code",
   "execution_count": 44,
   "metadata": {},
   "outputs": [
    {
     "data": {
      "image/png": "[encoded data removed]",
      "text/plain": [
       "<Figure size 432x288 with 1 Axes>"
      ]
     },
     "metadata": {
      "needs_background": "light"
     },
     "output_type": "display_data"
    }
   ],
   "source": [
    "from sklearn.metrics import roc_curve , roc_auc_score\n",
    "y_probas = model_rf.predict_proba(X_test)[:,1]\n",
    "#skplt.metrics.plot_roc_curve(y_test, y_probas)\n",
    "fpr, tpr, thresholds = roc_curve(y_test, y_probas)\n",
    "#roc_auc = roc_auc_score(y_test, scores)\n",
    "plt.plot(fpr, tpr)\n",
    "\n",
    "plt.title(\"ROC Curve\")\n",
    "\n",
    "plt.xlabel(\"False Positive Rate\")\n",
    "\n",
    "plt.ylabel(\"True Positive Rate\")\n",
    "\n",
    "plt.show()"
   ]
  },
  {
   "cell_type": "markdown",
   "metadata": {},
   "source": [
    "### Decision Tree "
   ]
  },
  {
   "cell_type": "code",
   "execution_count": 45,
   "metadata": {},
   "outputs": [
    {
     "name": "stdout",
     "output_type": "stream",
     "text": [
      "DecisionTreeClassifier(ccp_alpha=0.0, class_weight=None, criterion='gini',\n",
      "                       max_depth=None, max_features=None, max_leaf_nodes=None,\n",
      "                       min_impurity_decrease=0.0, min_impurity_split=None,\n",
      "                       min_samples_leaf=1, min_samples_split=2,\n",
      "                       min_weight_fraction_leaf=0.0, presort='deprecated',\n",
      "                       random_state=None, splitter='best')\n",
      "0.8351145038167939\n",
      "[[276  55]\n",
      " [ 53 271]]\n",
      "(array([0.83890578, 0.83128834]), array([0.83383686, 0.83641975]), array([0.83636364, 0.83384615]), array([331, 324], dtype=int64))\n",
      "              precision    recall  f1-score   support\n",
      "\n",
      "           0       0.84      0.83      0.84       331\n",
      "           1       0.83      0.84      0.83       324\n",
      "\n",
      "    accuracy                           0.84       655\n",
      "   macro avg       0.84      0.84      0.84       655\n",
      "weighted avg       0.84      0.84      0.84       655\n",
      "\n"
     ]
    }
   ],
   "source": [
    "model_dt = DecisionTreeClassifier()\n",
    "model_dt.fit(X_train, y_train)\n",
    "print(model_dt)\n",
    "y_pred = model_dt.predict(X_test)\n",
    "acc = accuracy_score(y_test, y_pred)\n",
    "\n",
    "labels = [0, 1]\n",
    "print(accuracy_score(y_test, y_pred))\n",
    "print(confusion_matrix(y_test, y_pred))\n",
    "print(precision_recall_fscore_support(y_test, y_pred, average=None, labels= labels))\n",
    "print(classification_report(y_test,y_pred))"
   ]
  },
  {
   "cell_type": "code",
   "execution_count": 46,
   "metadata": {},
   "outputs": [
    {
     "data": {
      "image/png": "[encoded data removed]",
      "text/plain": [
       "<Figure size 432x288 with 1 Axes>"
      ]
     },
     "metadata": {
      "needs_background": "light"
     },
     "output_type": "display_data"
    }
   ],
   "source": [
    "from sklearn.metrics import roc_curve , roc_auc_score\n",
    "y_probas = model_dt.predict_proba(X_test)[:,1]\n",
    "#skplt.metrics.plot_roc_curve(y_test, y_probas)\n",
    "fpr, tpr, thresholds = roc_curve(y_test, y_probas)\n",
    "#roc_auc = roc_auc_score(y_test, scores)\n",
    "plt.plot(fpr, tpr)\n",
    "\n",
    "plt.title(\"ROC Curve\")\n",
    "\n",
    "plt.xlabel(\"False Positive Rate\")\n",
    "\n",
    "plt.ylabel(\"True Positive Rate\")\n",
    "\n",
    "plt.show()"
   ]
  },
  {
   "cell_type": "markdown",
   "metadata": {},
   "source": [
    "## Deep Learning Approach"
   ]
  },
  {
   "cell_type": "code",
   "execution_count": 47,
   "metadata": {
    "scrolled": true
   },
   "outputs": [],
   "source": [
    "from keras.models import Sequential\n",
    "from keras.layers import Embedding, Dropout,Conv1D, Flatten, MaxPooling1D, Dense, LSTM,Conv1D,MaxPooling1D, Bidirectional\n",
    "from keras.preprocessing.text import Tokenizer\n",
    "from keras.preprocessing.sequence import pad_sequences\n",
    "from keras.constraints import maxnorm\n",
    "from keras.preprocessing import sequence\n",
    "from keras.callbacks import History\n",
    "import matplotlib.pyplot as plt\n",
    "%matplotlib inline"
   ]
  },
  {
   "cell_type": "code",
   "execution_count": 48,
   "metadata": {},
   "outputs": [],
   "source": [
    "#Splitting data\n",
    "\n",
    "X_seq_train, X_seq_test, y_seq_train, y_seq_test = train_test_split(df['Transcripts_cleaned'], df['AD'], test_size = 0.1, random_state = 0)"
   ]
  },
  {
   "cell_type": "code",
   "execution_count": 49,
   "metadata": {},
   "outputs": [],
   "source": [
    "#Tokenizing sentences\n",
    "\n",
    "tokenizer = Tokenizer(num_words = 2500)\n",
    "tokenizer.fit_on_texts(X_seq_train)\n",
    "\n",
    "Xwords_train = tokenizer.texts_to_sequences(X_seq_train)\n",
    "Xwords_test = tokenizer.texts_to_sequences(X_seq_test)"
   ]
  },
  {
   "cell_type": "code",
   "execution_count": 50,
   "metadata": {},
   "outputs": [],
   "source": [
    "#Padding the sentence sequences\n",
    "\n",
    "max_review_length = 100\n",
    "Xwords_train = sequence.pad_sequences(Xwords_train, maxlen=max_review_length)\n",
    "Xwords_test = sequence.pad_sequences(Xwords_test, maxlen=max_review_length)"
   ]
  },
  {
   "cell_type": "code",
   "execution_count": 51,
   "metadata": {},
   "outputs": [
    {
     "name": "stdout",
     "output_type": "stream",
     "text": [
      "(2944, 100)\n",
      "(328, 100)\n",
      "(2944,)\n",
      "(328,)\n"
     ]
    }
   ],
   "source": [
    "print(Xwords_train.shape)\n",
    "print(Xwords_test.shape)\n",
    "print(y_seq_train.shape)\n",
    "print(y_seq_test.shape)"
   ]
  },
  {
   "cell_type": "code",
   "execution_count": 52,
   "metadata": {},
   "outputs": [
    {
     "data": {
      "text/plain": [
       "1098"
      ]
     },
     "execution_count": 52,
     "metadata": {},
     "output_type": "execute_result"
    }
   ],
   "source": [
    "vocab = len(tokenizer.word_index) + 1   # Add one for the zero indexing\n",
    "vocab"
   ]
  },
  {
   "cell_type": "code",
   "execution_count": 53,
   "metadata": {},
   "outputs": [],
   "source": [
    "#setting history parameter to record accuracy and loss info of model\n",
    "\n",
    "history = History()"
   ]
  },
  {
   "cell_type": "markdown",
   "metadata": {},
   "source": [
    "### LSTM Model"
   ]
  },
  {
   "cell_type": "code",
   "execution_count": 54,
   "metadata": {},
   "outputs": [
    {
     "name": "stdout",
     "output_type": "stream",
     "text": [
      "WARNING:tensorflow:From d:\\anaconda\\envs\\deeplearning\\lib\\site-packages\\tensorflow\\python\\ops\\nn_impl.py:180: add_dispatch_support.<locals>.wrapper (from tensorflow.python.ops.array_ops) is deprecated and will be removed in a future version.\n",
      "Instructions for updating:\n",
      "Use tf.where in 2.0, which has the same broadcast rule as np.where\n",
      "Model: \"sequential_1\"\n",
      "_________________________________________________________________\n",
      "Layer (type)                 Output Shape              Param #   \n",
      "=================================================================\n",
      "embedding_1 (Embedding)      (None, 100, 100)          109800    \n",
      "_________________________________________________________________\n",
      "lstm_1 (LSTM)                (None, 128)               117248    \n",
      "_________________________________________________________________\n",
      "dense_1 (Dense)              (None, 1)                 129       \n",
      "=================================================================\n",
      "Total params: 227,177\n",
      "Trainable params: 227,177\n",
      "Non-trainable params: 0\n",
      "_________________________________________________________________\n",
      "None\n",
      "WARNING:tensorflow:From d:\\anaconda\\envs\\deeplearning\\lib\\site-packages\\keras\\backend\\tensorflow_backend.py:422: The name tf.global_variables is deprecated. Please use tf.compat.v1.global_variables instead.\n",
      "\n",
      "Train on 2649 samples, validate on 295 samples\n",
      "Epoch 1/50\n",
      "2649/2649 [==============================] - 27s 10ms/step - loss: 0.6897 - accuracy: 0.5428 - val_loss: 0.6809 - val_accuracy: 0.6068\n",
      "Epoch 2/50\n",
      "2649/2649 [==============================] - 3s 1ms/step - loss: 0.6725 - accuracy: 0.6259 - val_loss: 0.6585 - val_accuracy: 0.6441\n",
      "Epoch 3/50\n",
      "2649/2649 [==============================] - 3s 963us/step - loss: 0.6169 - accuracy: 0.6916 - val_loss: 0.6089 - val_accuracy: 0.6915\n",
      "Epoch 4/50\n",
      "2649/2649 [==============================] - 3s 961us/step - loss: 0.6088 - accuracy: 0.7274 - val_loss: 0.5639 - val_accuracy: 0.7254\n",
      "Epoch 5/50\n",
      "2649/2649 [==============================] - 2s 903us/step - loss: 0.5092 - accuracy: 0.7463 - val_loss: 0.5790 - val_accuracy: 0.6847\n",
      "Epoch 6/50\n",
      "2649/2649 [==============================] - 2s 874us/step - loss: 0.4902 - accuracy: 0.7584 - val_loss: 0.5572 - val_accuracy: 0.7119\n",
      "Epoch 7/50\n",
      "2649/2649 [==============================] - 4s 1ms/step - loss: 0.4450 - accuracy: 0.7841 - val_loss: 0.5306 - val_accuracy: 0.7356\n",
      "Epoch 8/50\n",
      "2649/2649 [==============================] - 3s 1ms/step - loss: 0.4026 - accuracy: 0.8158 - val_loss: 0.5171 - val_accuracy: 0.7356\n",
      "Epoch 9/50\n",
      "2649/2649 [==============================] - 2s 902us/step - loss: 0.3699 - accuracy: 0.8335 - val_loss: 0.5105 - val_accuracy: 0.7695\n",
      "Epoch 10/50\n",
      "2649/2649 [==============================] - 2s 909us/step - loss: 0.3432 - accuracy: 0.8482 - val_loss: 0.5133 - val_accuracy: 0.7763\n",
      "Epoch 11/50\n",
      "2649/2649 [==============================] - 3s 967us/step - loss: 0.3292 - accuracy: 0.8584 - val_loss: 0.5033 - val_accuracy: 0.7797\n",
      "Epoch 12/50\n",
      "2649/2649 [==============================] - 2s 792us/step - loss: 0.3033 - accuracy: 0.8709 - val_loss: 0.5149 - val_accuracy: 0.7898\n",
      "Epoch 13/50\n",
      "2649/2649 [==============================] - 3s 1ms/step - loss: 0.2959 - accuracy: 0.8743 - val_loss: 0.4954 - val_accuracy: 0.8000\n",
      "Epoch 14/50\n",
      "2649/2649 [==============================] - 3s 1ms/step - loss: 0.2800 - accuracy: 0.8856 - val_loss: 0.5010 - val_accuracy: 0.7966\n",
      "Epoch 15/50\n",
      "2649/2649 [==============================] - 3s 961us/step - loss: 0.2675 - accuracy: 0.8860 - val_loss: 0.5052 - val_accuracy: 0.8000\n",
      "Epoch 16/50\n",
      "2649/2649 [==============================] - 4s 1ms/step - loss: 0.2624 - accuracy: 0.8849 - val_loss: 0.4780 - val_accuracy: 0.8000\n",
      "Epoch 17/50\n",
      "2649/2649 [==============================] - 3s 1ms/step - loss: 0.2531 - accuracy: 0.8973 - val_loss: 0.5136 - val_accuracy: 0.8102\n",
      "Epoch 18/50\n",
      "2649/2649 [==============================] - 3s 1ms/step - loss: 0.2398 - accuracy: 0.8935 - val_loss: 0.5197 - val_accuracy: 0.8034\n",
      "Epoch 19/50\n",
      "2649/2649 [==============================] - 3s 1ms/step - loss: 0.2401 - accuracy: 0.9015 - val_loss: 0.5300 - val_accuracy: 0.7864\n",
      "Epoch 20/50\n",
      "2649/2649 [==============================] - 3s 1ms/step - loss: 0.2574 - accuracy: 0.8890 - val_loss: 0.4991 - val_accuracy: 0.8102\n",
      "Epoch 21/50\n",
      "2649/2649 [==============================] - 3s 1ms/step - loss: 0.2373 - accuracy: 0.8905 - val_loss: 0.5026 - val_accuracy: 0.8136\n",
      "Epoch 22/50\n",
      "2649/2649 [==============================] - 2s 870us/step - loss: 0.2237 - accuracy: 0.9060 - val_loss: 0.5018 - val_accuracy: 0.8034\n",
      "Epoch 23/50\n",
      "2649/2649 [==============================] - 3s 1ms/step - loss: 0.2145 - accuracy: 0.9075 - val_loss: 0.5296 - val_accuracy: 0.8000\n",
      "Epoch 24/50\n",
      "2649/2649 [==============================] - 3s 989us/step - loss: 0.2124 - accuracy: 0.9094 - val_loss: 0.5142 - val_accuracy: 0.8271\n",
      "Epoch 25/50\n",
      "2649/2649 [==============================] - 2s 887us/step - loss: 0.2048 - accuracy: 0.9147 - val_loss: 0.4909 - val_accuracy: 0.8203\n",
      "Epoch 26/50\n",
      "2649/2649 [==============================] - 3s 1ms/step - loss: 0.2079 - accuracy: 0.9124 - val_loss: 0.4970 - val_accuracy: 0.8237\n",
      "Epoch 27/50\n",
      "2649/2649 [==============================] - 4s 1ms/step - loss: 0.2027 - accuracy: 0.9158 - val_loss: 0.4992 - val_accuracy: 0.8271\n",
      "Epoch 28/50\n",
      "2649/2649 [==============================] - 4s 1ms/step - loss: 0.1976 - accuracy: 0.9162 - val_loss: 0.5338 - val_accuracy: 0.8305\n",
      "Epoch 29/50\n",
      "2649/2649 [==============================] - 4s 1ms/step - loss: 0.1973 - accuracy: 0.9185 - val_loss: 0.4832 - val_accuracy: 0.8339\n",
      "Epoch 30/50\n",
      "2649/2649 [==============================] - 4s 1ms/step - loss: 0.2084 - accuracy: 0.9094 - val_loss: 0.5155 - val_accuracy: 0.8237\n",
      "Epoch 31/50\n",
      "2649/2649 [==============================] - 4s 2ms/step - loss: 0.1834 - accuracy: 0.9207 - val_loss: 0.5155 - val_accuracy: 0.8305\n",
      "Epoch 32/50\n",
      "2649/2649 [==============================] - 3s 1ms/step - loss: 0.1810 - accuracy: 0.9234 - val_loss: 0.5333 - val_accuracy: 0.8373\n",
      "Epoch 33/50\n",
      "2649/2649 [==============================] - 4s 1ms/step - loss: 0.1770 - accuracy: 0.9249 - val_loss: 0.5634 - val_accuracy: 0.8407\n",
      "Epoch 34/50\n",
      "2649/2649 [==============================] - 4s 1ms/step - loss: 0.1727 - accuracy: 0.9260 - val_loss: 0.5482 - val_accuracy: 0.8407\n",
      "Epoch 35/50\n",
      "2649/2649 [==============================] - 4s 1ms/step - loss: 0.1709 - accuracy: 0.9309 - val_loss: 0.5615 - val_accuracy: 0.8441\n",
      "Epoch 36/50\n",
      "2649/2649 [==============================] - 4s 1ms/step - loss: 0.1685 - accuracy: 0.9290 - val_loss: 0.5515 - val_accuracy: 0.8407\n",
      "Epoch 37/50\n",
      "2649/2649 [==============================] - 4s 1ms/step - loss: 0.1650 - accuracy: 0.9309 - val_loss: 0.5736 - val_accuracy: 0.8407\n",
      "Epoch 38/50\n",
      "2649/2649 [==============================] - 4s 1ms/step - loss: 0.1646 - accuracy: 0.9305 - val_loss: 0.5742 - val_accuracy: 0.8441\n",
      "Epoch 39/50\n",
      "2649/2649 [==============================] - 3s 1ms/step - loss: 0.1634 - accuracy: 0.9298 - val_loss: 0.5851 - val_accuracy: 0.8508\n",
      "Epoch 40/50\n",
      "2649/2649 [==============================] - 3s 1ms/step - loss: 0.1617 - accuracy: 0.9324 - val_loss: 0.5619 - val_accuracy: 0.8441\n",
      "Epoch 41/50\n",
      "2649/2649 [==============================] - 3s 1ms/step - loss: 0.1657 - accuracy: 0.9241 - val_loss: 0.5735 - val_accuracy: 0.8475\n",
      "Epoch 42/50\n",
      "2649/2649 [==============================] - 3s 1ms/step - loss: 0.1561 - accuracy: 0.9290 - val_loss: 0.5930 - val_accuracy: 0.8407\n",
      "Epoch 43/50\n",
      "2649/2649 [==============================] - 4s 1ms/step - loss: 0.1519 - accuracy: 0.9328 - val_loss: 0.5952 - val_accuracy: 0.8542\n",
      "Epoch 44/50\n",
      "2649/2649 [==============================] - 3s 1ms/step - loss: 0.1492 - accuracy: 0.9358 - val_loss: 0.6192 - val_accuracy: 0.8441\n",
      "Epoch 45/50\n",
      "2649/2649 [==============================] - 3s 1ms/step - loss: 0.1496 - accuracy: 0.9362 - val_loss: 0.6291 - val_accuracy: 0.8508\n",
      "Epoch 46/50\n",
      "2649/2649 [==============================] - 3s 1ms/step - loss: 0.1468 - accuracy: 0.9366 - val_loss: 0.6102 - val_accuracy: 0.8576\n",
      "Epoch 47/50\n",
      "2649/2649 [==============================] - 4s 1ms/step - loss: 0.1472 - accuracy: 0.9351 - val_loss: 0.6251 - val_accuracy: 0.8407\n",
      "Epoch 48/50\n"
     ]
    },
    {
     "name": "stdout",
     "output_type": "stream",
     "text": [
      "2649/2649 [==============================] - 3s 1ms/step - loss: 0.1458 - accuracy: 0.9366 - val_loss: 0.5955 - val_accuracy: 0.8508\n",
      "Epoch 49/50\n",
      "2649/2649 [==============================] - 2s 795us/step - loss: 0.1452 - accuracy: 0.9370 - val_loss: 0.6537 - val_accuracy: 0.8576\n",
      "Epoch 50/50\n",
      "2649/2649 [==============================] - 2s 883us/step - loss: 0.1465 - accuracy: 0.9370 - val_loss: 0.5962 - val_accuracy: 0.8576\n"
     ]
    },
    {
     "data": {
      "text/plain": [
       "<keras.callbacks.callbacks.History at 0x167e8f05288>"
      ]
     },
     "execution_count": 54,
     "metadata": {},
     "output_type": "execute_result"
    }
   ],
   "source": [
    "\n",
    "model = Sequential()\n",
    "model.add(Embedding(input_dim = vocab, output_dim = 100, input_length=100))\n",
    "model.add(LSTM(128, dropout=0.2, recurrent_dropout=0.2))\n",
    "model.add(Dense(1, activation='sigmoid'))\n",
    "model.compile(loss='binary_crossentropy', optimizer='adam', metrics=['accuracy'])\n",
    "print(model.summary())\n",
    "\n",
    "model.fit(Xwords_train, y_seq_train, epochs=50, batch_size=256,verbose = 1,callbacks = [history],validation_split=0.1)"
   ]
  },
  {
   "cell_type": "code",
   "execution_count": 56,
   "metadata": {},
   "outputs": [
    {
     "name": "stdout",
     "output_type": "stream",
     "text": [
      "328/328 [==============================] - 1s 4ms/step\n",
      "Test Loss:  0.5132803451724168\n",
      "Test Accuracy:  0.8414633870124817\n"
     ]
    }
   ],
   "source": [
    "#evaluating model on test data\n",
    "\n",
    "eval_list = model.evaluate(Xwords_test,y_seq_test)\n",
    "print('Test Loss: ',eval_list[0])\n",
    "print('Test Accuracy: ',eval_list[1])"
   ]
  },
  {
   "cell_type": "code",
   "execution_count": 67,
   "metadata": {},
   "outputs": [],
   "source": [
    "model.save('saved_models/model_lstm.h5')"
   ]
  },
  {
   "cell_type": "code",
   "execution_count": 62,
   "metadata": {},
   "outputs": [
    {
     "data": {
      "image/png": "[encoded data removed]",
      "text/plain": [
       "<Figure size 432x288 with 1 Axes>"
      ]
     },
     "metadata": {
      "needs_background": "light"
     },
     "output_type": "display_data"
    }
   ],
   "source": [
    "y_pred_probas = model.predict(Xwords_test)\n",
    "y_pred_probas = [i[0] for i in y_pred_probas]\n",
    "fpr, tpr, thresholds = roc_curve(y_seq_test, y_pred_probas)\n",
    "#roc_auc = roc_auc_score(y_test, scores)\n",
    "plt.plot(fpr, tpr)\n",
    "\n",
    "plt.title(\"ROC Curve\")\n",
    "\n",
    "plt.xlabel(\"False Positive Rate\")\n",
    "\n",
    "plt.ylabel(\"True Positive Rate\")\n",
    "\n",
    "plt.show()"
   ]
  },
  {
   "cell_type": "code",
   "execution_count": 64,
   "metadata": {},
   "outputs": [],
   "source": [
    "#predicting classes on test data\n",
    "\n",
    "y_pred = model.predict_classes(Xwords_test)\n",
    "y_pred = [i[0] for i in y_pred]"
   ]
  },
  {
   "cell_type": "code",
   "execution_count": 65,
   "metadata": {},
   "outputs": [
    {
     "name": "stdout",
     "output_type": "stream",
     "text": [
      "[[137  27]\n",
      " [ 25 139]]\n",
      "              precision    recall  f1-score   support\n",
      "\n",
      "           0       0.85      0.84      0.84       164\n",
      "           1       0.84      0.85      0.84       164\n",
      "\n",
      "    accuracy                           0.84       328\n",
      "   macro avg       0.84      0.84      0.84       328\n",
      "weighted avg       0.84      0.84      0.84       328\n",
      "\n"
     ]
    }
   ],
   "source": [
    "print(confusion_matrix(y_seq_test, y_pred))\n",
    "print(classification_report(y_seq_test,y_pred))"
   ]
  },
  {
   "cell_type": "code",
   "execution_count": 59,
   "metadata": {},
   "outputs": [
    {
     "data": {
      "image/png": "[encoded data removed]",
      "text/plain": [
       "<Figure size 432x288 with 1 Axes>"
      ]
     },
     "metadata": {
      "needs_background": "light"
     },
     "output_type": "display_data"
    }
   ],
   "source": [
    "plt.plot(history.history['loss'])\n",
    "plt.plot(history.history['val_loss'])\n",
    "plt.title('model loss')\n",
    "plt.ylabel('loss')\n",
    "plt.xlabel('epoch')\n",
    "plt.legend(['train', 'test'], loc='upper left')\n",
    "plt.show()"
   ]
  },
  {
   "cell_type": "code",
   "execution_count": 60,
   "metadata": {},
   "outputs": [
    {
     "data": {
      "image/png": "[encoded data removed]",
      "text/plain": [
       "<Figure size 432x288 with 1 Axes>"
      ]
     },
     "metadata": {
      "needs_background": "light"
     },
     "output_type": "display_data"
    }
   ],
   "source": [
    "plt.plot(history.history['accuracy'])\n",
    "plt.plot(history.history['val_accuracy'])\n",
    "plt.title('model accuracy')\n",
    "plt.ylabel('accuracy')\n",
    "plt.xlabel('epoch')\n",
    "plt.legend(['train', 'test'], loc='upper left')\n",
    "plt.show()"
   ]
  },
  {
   "cell_type": "markdown",
   "metadata": {},
   "source": [
    "### Bidirectional LSTM Model"
   ]
  },
  {
   "cell_type": "code",
   "execution_count": 66,
   "metadata": {
    "scrolled": true
   },
   "outputs": [
    {
     "name": "stdout",
     "output_type": "stream",
     "text": [
      "Model: \"sequential_2\"\n",
      "_________________________________________________________________\n",
      "Layer (type)                 Output Shape              Param #   \n",
      "=================================================================\n",
      "embedding_2 (Embedding)      (None, 100, 100)          109800    \n",
      "_________________________________________________________________\n",
      "bidirectional_1 (Bidirection (None, 256)               234496    \n",
      "_________________________________________________________________\n",
      "dense_2 (Dense)              (None, 1)                 257       \n",
      "=================================================================\n",
      "Total params: 344,553\n",
      "Trainable params: 344,553\n",
      "Non-trainable params: 0\n",
      "_________________________________________________________________\n",
      "None\n",
      "Train on 2649 samples, validate on 295 samples\n",
      "Epoch 1/50\n",
      "2649/2649 [==============================] - 7s 2ms/step - loss: 0.6920 - accuracy: 0.5247 - val_loss: 0.6905 - val_accuracy: 0.5254\n",
      "Epoch 2/50\n",
      "2649/2649 [==============================] - 4s 2ms/step - loss: 0.6809 - accuracy: 0.6104 - val_loss: 0.6690 - val_accuracy: 0.6373\n",
      "Epoch 3/50\n",
      "2649/2649 [==============================] - 4s 2ms/step - loss: 0.6348 - accuracy: 0.6863 - val_loss: 0.6111 - val_accuracy: 0.6983\n",
      "Epoch 4/50\n",
      "2649/2649 [==============================] - 4s 2ms/step - loss: 0.5817 - accuracy: 0.7214 - val_loss: 0.6014 - val_accuracy: 0.7085\n",
      "Epoch 5/50\n",
      "2649/2649 [==============================] - 4s 1ms/step - loss: 0.5314 - accuracy: 0.7629 - val_loss: 0.5800 - val_accuracy: 0.7288\n",
      "Epoch 6/50\n",
      "2649/2649 [==============================] - 4s 2ms/step - loss: 0.4651 - accuracy: 0.7920 - val_loss: 0.5457 - val_accuracy: 0.7254\n",
      "Epoch 7/50\n",
      "2649/2649 [==============================] - 4s 1ms/step - loss: 0.4136 - accuracy: 0.8120 - val_loss: 0.5256 - val_accuracy: 0.7424\n",
      "Epoch 8/50\n",
      "2649/2649 [==============================] - 4s 1ms/step - loss: 0.3769 - accuracy: 0.8309 - val_loss: 0.4997 - val_accuracy: 0.7729\n",
      "Epoch 9/50\n",
      "2649/2649 [==============================] - 4s 2ms/step - loss: 0.3439 - accuracy: 0.8482 - val_loss: 0.4981 - val_accuracy: 0.8034\n",
      "Epoch 10/50\n",
      "2649/2649 [==============================] - 4s 1ms/step - loss: 0.3211 - accuracy: 0.8686 - val_loss: 0.4900 - val_accuracy: 0.7932\n",
      "Epoch 11/50\n",
      "2649/2649 [==============================] - 4s 1ms/step - loss: 0.2951 - accuracy: 0.8773 - val_loss: 0.4873 - val_accuracy: 0.8136\n",
      "Epoch 12/50\n",
      "2649/2649 [==============================] - 4s 2ms/step - loss: 0.2750 - accuracy: 0.8879 - val_loss: 0.4913 - val_accuracy: 0.8034\n",
      "Epoch 13/50\n",
      "2649/2649 [==============================] - 5s 2ms/step - loss: 0.2627 - accuracy: 0.8898 - val_loss: 0.5167 - val_accuracy: 0.7831\n",
      "Epoch 14/50\n",
      "2649/2649 [==============================] - 4s 2ms/step - loss: 0.2730 - accuracy: 0.8800 - val_loss: 0.4794 - val_accuracy: 0.8034\n",
      "Epoch 15/50\n",
      "2649/2649 [==============================] - 4s 2ms/step - loss: 0.2540 - accuracy: 0.8943 - val_loss: 0.4857 - val_accuracy: 0.8271\n",
      "Epoch 16/50\n",
      "2649/2649 [==============================] - 4s 2ms/step - loss: 0.2410 - accuracy: 0.9026 - val_loss: 0.4734 - val_accuracy: 0.8102\n",
      "Epoch 17/50\n",
      "2649/2649 [==============================] - 4s 1ms/step - loss: 0.2309 - accuracy: 0.8988 - val_loss: 0.4708 - val_accuracy: 0.8136\n",
      "Epoch 18/50\n",
      "2649/2649 [==============================] - 4s 1ms/step - loss: 0.2141 - accuracy: 0.9094 - val_loss: 0.5035 - val_accuracy: 0.8169\n",
      "Epoch 19/50\n",
      "2649/2649 [==============================] - 4s 1ms/step - loss: 0.2119 - accuracy: 0.9109 - val_loss: 0.4829 - val_accuracy: 0.8305\n",
      "Epoch 20/50\n",
      "2649/2649 [==============================] - 3s 1ms/step - loss: 0.2016 - accuracy: 0.9166 - val_loss: 0.5211 - val_accuracy: 0.8271\n",
      "Epoch 21/50\n",
      "2649/2649 [==============================] - 5s 2ms/step - loss: 0.1945 - accuracy: 0.9181 - val_loss: 0.4877 - val_accuracy: 0.8237\n",
      "Epoch 22/50\n",
      "2649/2649 [==============================] - 4s 1ms/step - loss: 0.1950 - accuracy: 0.9215 - val_loss: 0.5046 - val_accuracy: 0.8373\n",
      "Epoch 23/50\n",
      "2649/2649 [==============================] - 4s 2ms/step - loss: 0.1831 - accuracy: 0.9207 - val_loss: 0.4983 - val_accuracy: 0.8407\n",
      "Epoch 24/50\n",
      "2649/2649 [==============================] - 4s 1ms/step - loss: 0.1794 - accuracy: 0.9271 - val_loss: 0.5080 - val_accuracy: 0.8407\n",
      "Epoch 25/50\n",
      "2649/2649 [==============================] - 4s 1ms/step - loss: 0.1720 - accuracy: 0.9279 - val_loss: 0.5201 - val_accuracy: 0.8373\n",
      "Epoch 26/50\n",
      "2649/2649 [==============================] - 4s 1ms/step - loss: 0.1685 - accuracy: 0.9271 - val_loss: 0.5830 - val_accuracy: 0.8475\n",
      "Epoch 27/50\n",
      "2649/2649 [==============================] - 4s 2ms/step - loss: 0.1796 - accuracy: 0.9264 - val_loss: 0.5265 - val_accuracy: 0.8542\n",
      "Epoch 28/50\n",
      "2649/2649 [==============================] - 4s 1ms/step - loss: 0.1665 - accuracy: 0.9328 - val_loss: 0.5488 - val_accuracy: 0.8508\n",
      "Epoch 29/50\n",
      "2649/2649 [==============================] - 4s 2ms/step - loss: 0.1682 - accuracy: 0.9302 - val_loss: 0.5645 - val_accuracy: 0.8441\n",
      "Epoch 30/50\n",
      "2649/2649 [==============================] - 4s 1ms/step - loss: 0.1558 - accuracy: 0.9339 - val_loss: 0.5327 - val_accuracy: 0.8373\n",
      "Epoch 31/50\n",
      "2649/2649 [==============================] - 4s 1ms/step - loss: 0.1581 - accuracy: 0.9347 - val_loss: 0.5317 - val_accuracy: 0.8407\n",
      "Epoch 32/50\n",
      "2649/2649 [==============================] - 4s 1ms/step - loss: 0.1607 - accuracy: 0.9324 - val_loss: 0.5280 - val_accuracy: 0.8576\n",
      "Epoch 33/50\n",
      "2649/2649 [==============================] - 4s 1ms/step - loss: 0.1502 - accuracy: 0.9347 - val_loss: 0.5785 - val_accuracy: 0.8542\n",
      "Epoch 34/50\n",
      "2649/2649 [==============================] - 4s 1ms/step - loss: 0.1455 - accuracy: 0.9396 - val_loss: 0.5966 - val_accuracy: 0.8508\n",
      "Epoch 35/50\n",
      "2649/2649 [==============================] - 4s 2ms/step - loss: 0.1448 - accuracy: 0.9392 - val_loss: 0.5984 - val_accuracy: 0.8678\n",
      "Epoch 36/50\n",
      "2649/2649 [==============================] - 4s 1ms/step - loss: 0.1486 - accuracy: 0.9370 - val_loss: 0.6418 - val_accuracy: 0.8610\n",
      "Epoch 37/50\n",
      "2649/2649 [==============================] - 4s 2ms/step - loss: 0.1487 - accuracy: 0.9336 - val_loss: 0.6005 - val_accuracy: 0.8475\n",
      "Epoch 38/50\n",
      "2649/2649 [==============================] - 3s 1ms/step - loss: 0.1418 - accuracy: 0.9392 - val_loss: 0.6266 - val_accuracy: 0.8542\n",
      "Epoch 39/50\n",
      "2649/2649 [==============================] - 4s 2ms/step - loss: 0.1367 - accuracy: 0.9388 - val_loss: 0.6133 - val_accuracy: 0.8644\n",
      "Epoch 40/50\n",
      "2649/2649 [==============================] - 4s 2ms/step - loss: 0.1465 - accuracy: 0.9332 - val_loss: 0.6613 - val_accuracy: 0.8508\n",
      "Epoch 41/50\n",
      "2649/2649 [==============================] - 4s 2ms/step - loss: 0.1418 - accuracy: 0.9377 - val_loss: 0.6199 - val_accuracy: 0.8508\n",
      "Epoch 42/50\n",
      "2649/2649 [==============================] - 5s 2ms/step - loss: 0.1382 - accuracy: 0.9404 - val_loss: 0.6528 - val_accuracy: 0.8712\n",
      "Epoch 43/50\n",
      "2649/2649 [==============================] - 4s 1ms/step - loss: 0.1355 - accuracy: 0.9377 - val_loss: 0.6704 - val_accuracy: 0.8576\n",
      "Epoch 44/50\n",
      "2649/2649 [==============================] - 4s 1ms/step - loss: 0.1317 - accuracy: 0.9430 - val_loss: 0.6585 - val_accuracy: 0.8610\n",
      "Epoch 45/50\n",
      "2649/2649 [==============================] - 4s 1ms/step - loss: 0.1340 - accuracy: 0.9419 - val_loss: 0.6638 - val_accuracy: 0.8610\n",
      "Epoch 46/50\n",
      "2649/2649 [==============================] - 4s 1ms/step - loss: 0.1286 - accuracy: 0.9438 - val_loss: 0.6491 - val_accuracy: 0.8746\n",
      "Epoch 47/50\n",
      "2649/2649 [==============================] - 4s 2ms/step - loss: 0.1267 - accuracy: 0.9464 - val_loss: 0.6847 - val_accuracy: 0.8746\n",
      "Epoch 48/50\n",
      "2649/2649 [==============================] - 4s 2ms/step - loss: 0.1282 - accuracy: 0.9468 - val_loss: 0.6549 - val_accuracy: 0.8678\n",
      "Epoch 49/50\n",
      "2649/2649 [==============================] - 4s 2ms/step - loss: 0.1277 - accuracy: 0.9449 - val_loss: 0.7150 - val_accuracy: 0.8678\n",
      "Epoch 50/50\n",
      "2649/2649 [==============================] - 4s 2ms/step - loss: 0.1231 - accuracy: 0.9483 - val_loss: 0.6396 - val_accuracy: 0.8678\n"
     ]
    },
    {
     "data": {
      "text/plain": [
       "<keras.callbacks.callbacks.History at 0x16896aeedc8>"
      ]
     },
     "execution_count": 66,
     "metadata": {},
     "output_type": "execute_result"
    }
   ],
   "source": [
    "\n",
    "model_bilstm = Sequential()\n",
    "model_bilstm.add(Embedding(input_dim = vocab, output_dim = 100, input_length=100))\n",
    "model_bilstm.add(Bidirectional(LSTM(128, recurrent_dropout=0.2)))\n",
    "model_bilstm.add(Dense(1, activation='sigmoid'))\n",
    "model_bilstm.compile(loss='binary_crossentropy', optimizer='adam', metrics=['accuracy'])\n",
    "print(model_bilstm.summary())\n",
    "\n",
    "model_bilstm.fit(Xwords_train, y_seq_train, epochs=50, batch_size=256,verbose = 1,callbacks = [history],validation_split=0.1)"
   ]
  },
  {
   "cell_type": "code",
   "execution_count": 69,
   "metadata": {},
   "outputs": [
    {
     "name": "stdout",
     "output_type": "stream",
     "text": [
      "328/328 [==============================] - 1s 4ms/step\n",
      "Test Loss:  0.5430982607166942\n",
      "Test Accuracy:  0.8567073345184326\n"
     ]
    }
   ],
   "source": [
    "eval_list = model_bilstm.evaluate(Xwords_test,y_seq_test)\n",
    "print('Test Loss: ',eval_list[0])\n",
    "print('Test Accuracy: ',eval_list[1])"
   ]
  },
  {
   "cell_type": "code",
   "execution_count": 70,
   "metadata": {},
   "outputs": [],
   "source": [
    "model_bilstm.save('saved_models/model_bilstm.h5')"
   ]
  },
  {
   "cell_type": "code",
   "execution_count": 71,
   "metadata": {},
   "outputs": [
    {
     "data": {
      "image/png": "[encoded data removed]",
      "text/plain": [
       "<Figure size 432x288 with 1 Axes>"
      ]
     },
     "metadata": {
      "needs_background": "light"
     },
     "output_type": "display_data"
    }
   ],
   "source": [
    "y_pred_probas = model_bilstm.predict(Xwords_test)\n",
    "y_pred_probas = [i[0] for i in y_pred_probas]\n",
    "fpr, tpr, thresholds = roc_curve(y_seq_test, y_pred_probas)\n",
    "#roc_auc = roc_auc_score(y_test, scores)\n",
    "plt.plot(fpr, tpr)\n",
    "\n",
    "plt.title(\"ROC Curve\")\n",
    "\n",
    "plt.xlabel(\"False Positive Rate\")\n",
    "\n",
    "plt.ylabel(\"True Positive Rate\")\n",
    "\n",
    "plt.show()"
   ]
  },
  {
   "cell_type": "code",
   "execution_count": 72,
   "metadata": {},
   "outputs": [],
   "source": [
    "y_pred = model_bilstm.predict_classes(Xwords_test)\n",
    "y_pred = [i[0] for i in y_pred]"
   ]
  },
  {
   "cell_type": "code",
   "execution_count": 73,
   "metadata": {},
   "outputs": [
    {
     "name": "stdout",
     "output_type": "stream",
     "text": [
      "[[138  26]\n",
      " [ 21 143]]\n",
      "              precision    recall  f1-score   support\n",
      "\n",
      "           0       0.87      0.84      0.85       164\n",
      "           1       0.85      0.87      0.86       164\n",
      "\n",
      "    accuracy                           0.86       328\n",
      "   macro avg       0.86      0.86      0.86       328\n",
      "weighted avg       0.86      0.86      0.86       328\n",
      "\n"
     ]
    }
   ],
   "source": [
    "print(confusion_matrix(y_seq_test, y_pred))\n",
    "print(classification_report(y_seq_test,y_pred))"
   ]
  },
  {
   "cell_type": "code",
   "execution_count": 79,
   "metadata": {},
   "outputs": [
    {
     "data": {
      "image/png": "[encoded data removed]",
      "text/plain": [
       "<Figure size 432x288 with 1 Axes>"
      ]
     },
     "metadata": {
      "needs_background": "light"
     },
     "output_type": "display_data"
    }
   ],
   "source": [
    "\n",
    "\n",
    "plt.plot(history.history['loss'])\n",
    "plt.plot(history.history['val_loss'])\n",
    "plt.title('model loss')\n",
    "plt.ylabel('loss')\n",
    "plt.xlabel('epoch')\n",
    "plt.legend(['train', 'test'], loc='upper left')\n",
    "plt.show()"
   ]
  },
  {
   "cell_type": "code",
   "execution_count": 80,
   "metadata": {},
   "outputs": [
    {
     "data": {
      "image/png": "[encoded data removed]",
      "text/plain": [
       "<Figure size 432x288 with 1 Axes>"
      ]
     },
     "metadata": {
      "needs_background": "light"
     },
     "output_type": "display_data"
    }
   ],
   "source": [
    "plt.plot(history.history['accuracy'])\n",
    "plt.plot(history.history['val_accuracy'])\n",
    "plt.title('model accuracy')\n",
    "plt.ylabel('accuracy')\n",
    "plt.xlabel('epoch')\n",
    "plt.legend(['train', 'test'], loc='upper left')\n",
    "plt.show()"
   ]
  },
  {
   "cell_type": "markdown",
   "metadata": {},
   "source": [
    "### CNN-LSTM Model"
   ]
  },
  {
   "cell_type": "code",
   "execution_count": 75,
   "metadata": {},
   "outputs": [],
   "source": [
    "def create_conv_model():\n",
    "    model_conv = Sequential()\n",
    "    model_conv.add(Embedding(vocab, 100, input_length=100))\n",
    "    model_conv.add(Dropout(0.1))\n",
    "    model_conv.add(Conv1D(32, 5, activation='relu'))\n",
    "    model_conv.add(MaxPooling1D(pool_size=4))\n",
    "    model_conv.add(LSTM(64))\n",
    "    model_conv.add(Dense(1, activation='sigmoid'))\n",
    "    model_conv.compile(loss='binary_crossentropy', optimizer='adam',metrics=['accuracy'])\n",
    "    return model_conv\n"
   ]
  },
  {
   "cell_type": "code",
   "execution_count": 76,
   "metadata": {},
   "outputs": [
    {
     "name": "stdout",
     "output_type": "stream",
     "text": [
      "WARNING:tensorflow:From d:\\anaconda\\envs\\deeplearning\\lib\\site-packages\\keras\\backend\\tensorflow_backend.py:4070: The name tf.nn.max_pool is deprecated. Please use tf.nn.max_pool2d instead.\n",
      "\n",
      "Train on 2649 samples, validate on 295 samples\n",
      "Epoch 1/50\n",
      "2649/2649 [==============================] - 15s 6ms/step - loss: 0.6928 - accuracy: 0.5028 - val_loss: 0.6896 - val_accuracy: 0.5797\n",
      "Epoch 2/50\n",
      "2649/2649 [==============================] - 1s 459us/step - loss: 0.6876 - accuracy: 0.5557 - val_loss: 0.6833 - val_accuracy: 0.6339\n",
      "Epoch 3/50\n",
      "2649/2649 [==============================] - 1s 428us/step - loss: 0.6730 - accuracy: 0.6636 - val_loss: 0.6639 - val_accuracy: 0.6542\n",
      "Epoch 4/50\n",
      "2649/2649 [==============================] - 1s 309us/step - loss: 0.6272 - accuracy: 0.6942 - val_loss: 0.6160 - val_accuracy: 0.6847\n",
      "Epoch 5/50\n",
      "2649/2649 [==============================] - 1s 372us/step - loss: 0.5431 - accuracy: 0.7274 - val_loss: 0.5679 - val_accuracy: 0.7119\n",
      "Epoch 6/50\n",
      "2649/2649 [==============================] - 1s 414us/step - loss: 0.4623 - accuracy: 0.7682 - val_loss: 0.5291 - val_accuracy: 0.7492\n",
      "Epoch 7/50\n",
      "2649/2649 [==============================] - 1s 460us/step - loss: 0.3870 - accuracy: 0.8169 - val_loss: 0.4984 - val_accuracy: 0.7661\n",
      "Epoch 8/50\n",
      "2649/2649 [==============================] - 1s 436us/step - loss: 0.3330 - accuracy: 0.8524 - val_loss: 0.4904 - val_accuracy: 0.7898\n",
      "Epoch 9/50\n",
      "2649/2649 [==============================] - 1s 415us/step - loss: 0.2878 - accuracy: 0.8694 - val_loss: 0.5025 - val_accuracy: 0.8102\n",
      "Epoch 10/50\n",
      "2649/2649 [==============================] - 1s 469us/step - loss: 0.2523 - accuracy: 0.9007 - val_loss: 0.5007 - val_accuracy: 0.8136\n",
      "Epoch 11/50\n",
      "2649/2649 [==============================] - 1s 419us/step - loss: 0.2237 - accuracy: 0.9060 - val_loss: 0.5025 - val_accuracy: 0.8305\n",
      "Epoch 12/50\n",
      "2649/2649 [==============================] - 1s 333us/step - loss: 0.1974 - accuracy: 0.9230 - val_loss: 0.5072 - val_accuracy: 0.8203\n",
      "Epoch 13/50\n",
      "2649/2649 [==============================] - 1s 295us/step - loss: 0.1778 - accuracy: 0.9290 - val_loss: 0.5034 - val_accuracy: 0.8339\n",
      "Epoch 14/50\n",
      "2649/2649 [==============================] - 1s 240us/step - loss: 0.1572 - accuracy: 0.9362 - val_loss: 0.5025 - val_accuracy: 0.8407\n",
      "Epoch 15/50\n",
      "2649/2649 [==============================] - 1s 277us/step - loss: 0.1431 - accuracy: 0.9479 - val_loss: 0.4914 - val_accuracy: 0.8610\n",
      "Epoch 16/50\n",
      "2649/2649 [==============================] - 1s 416us/step - loss: 0.1298 - accuracy: 0.9505 - val_loss: 0.4892 - val_accuracy: 0.8678\n",
      "Epoch 17/50\n",
      "2649/2649 [==============================] - 1s 340us/step - loss: 0.1164 - accuracy: 0.9536 - val_loss: 0.4930 - val_accuracy: 0.8678\n",
      "Epoch 18/50\n",
      "2649/2649 [==============================] - 1s 399us/step - loss: 0.1074 - accuracy: 0.9555 - val_loss: 0.4831 - val_accuracy: 0.8712\n",
      "Epoch 19/50\n",
      "2649/2649 [==============================] - 1s 440us/step - loss: 0.1036 - accuracy: 0.9577 - val_loss: 0.4886 - val_accuracy: 0.8780\n",
      "Epoch 20/50\n",
      "2649/2649 [==============================] - 1s 367us/step - loss: 0.0923 - accuracy: 0.9645 - val_loss: 0.5067 - val_accuracy: 0.8644\n",
      "Epoch 21/50\n",
      "2649/2649 [==============================] - 1s 272us/step - loss: 0.0872 - accuracy: 0.9656 - val_loss: 0.5089 - val_accuracy: 0.8678\n",
      "Epoch 22/50\n",
      "2649/2649 [==============================] - 1s 404us/step - loss: 0.0779 - accuracy: 0.9706 - val_loss: 0.5176 - val_accuracy: 0.8610\n",
      "Epoch 23/50\n",
      "2649/2649 [==============================] - 1s 416us/step - loss: 0.0740 - accuracy: 0.9679 - val_loss: 0.5082 - val_accuracy: 0.8712\n",
      "Epoch 24/50\n",
      "2649/2649 [==============================] - 1s 378us/step - loss: 0.0706 - accuracy: 0.9679 - val_loss: 0.5325 - val_accuracy: 0.8712\n",
      "Epoch 25/50\n",
      "2649/2649 [==============================] - 1s 306us/step - loss: 0.0670 - accuracy: 0.9724 - val_loss: 0.5465 - val_accuracy: 0.8780\n",
      "Epoch 26/50\n",
      "2649/2649 [==============================] - 1s 414us/step - loss: 0.0675 - accuracy: 0.9724 - val_loss: 0.5065 - val_accuracy: 0.8780\n",
      "Epoch 27/50\n",
      "2649/2649 [==============================] - 1s 464us/step - loss: 0.0625 - accuracy: 0.9736 - val_loss: 0.5479 - val_accuracy: 0.8814\n",
      "Epoch 28/50\n",
      "2649/2649 [==============================] - 1s 411us/step - loss: 0.0621 - accuracy: 0.9736 - val_loss: 0.5725 - val_accuracy: 0.8746\n",
      "Epoch 29/50\n",
      "2649/2649 [==============================] - 1s 470us/step - loss: 0.0591 - accuracy: 0.9751 - val_loss: 0.5739 - val_accuracy: 0.8780\n",
      "Epoch 30/50\n",
      "2649/2649 [==============================] - 1s 446us/step - loss: 0.0549 - accuracy: 0.9781 - val_loss: 0.5766 - val_accuracy: 0.8847\n",
      "Epoch 31/50\n",
      "2649/2649 [==============================] - 1s 312us/step - loss: 0.0520 - accuracy: 0.9789 - val_loss: 0.5944 - val_accuracy: 0.8814\n",
      "Epoch 32/50\n",
      "2649/2649 [==============================] - 1s 354us/step - loss: 0.0508 - accuracy: 0.9785 - val_loss: 0.6215 - val_accuracy: 0.8814\n",
      "Epoch 33/50\n",
      "2649/2649 [==============================] - 1s 272us/step - loss: 0.0516 - accuracy: 0.9800 - val_loss: 0.6099 - val_accuracy: 0.8780\n",
      "Epoch 34/50\n",
      "2649/2649 [==============================] - 1s 271us/step - loss: 0.0468 - accuracy: 0.9770 - val_loss: 0.6178 - val_accuracy: 0.8814\n",
      "Epoch 35/50\n",
      "2649/2649 [==============================] - 1s 374us/step - loss: 0.0438 - accuracy: 0.9815 - val_loss: 0.6194 - val_accuracy: 0.8814\n",
      "Epoch 36/50\n",
      "2649/2649 [==============================] - 1s 351us/step - loss: 0.0461 - accuracy: 0.9800 - val_loss: 0.6357 - val_accuracy: 0.8915\n",
      "Epoch 37/50\n",
      "2649/2649 [==============================] - 1s 346us/step - loss: 0.0438 - accuracy: 0.9807 - val_loss: 0.6502 - val_accuracy: 0.8847\n",
      "Epoch 38/50\n",
      "2649/2649 [==============================] - 1s 412us/step - loss: 0.0429 - accuracy: 0.9823 - val_loss: 0.6799 - val_accuracy: 0.8780\n",
      "Epoch 39/50\n",
      "2649/2649 [==============================] - 1s 328us/step - loss: 0.0471 - accuracy: 0.9773 - val_loss: 0.6727 - val_accuracy: 0.8814\n",
      "Epoch 40/50\n",
      "2649/2649 [==============================] - 1s 315us/step - loss: 0.0401 - accuracy: 0.9845 - val_loss: 0.6692 - val_accuracy: 0.8814\n",
      "Epoch 41/50\n",
      "2649/2649 [==============================] - 1s 232us/step - loss: 0.0432 - accuracy: 0.9823 - val_loss: 0.6640 - val_accuracy: 0.8949\n",
      "Epoch 42/50\n",
      "2649/2649 [==============================] - 1s 262us/step - loss: 0.0444 - accuracy: 0.9796 - val_loss: 0.6697 - val_accuracy: 0.8847\n",
      "Epoch 43/50\n",
      "2649/2649 [==============================] - 1s 250us/step - loss: 0.0425 - accuracy: 0.9815 - val_loss: 0.6988 - val_accuracy: 0.8780\n",
      "Epoch 44/50\n",
      "2649/2649 [==============================] - 1s 261us/step - loss: 0.0409 - accuracy: 0.9841 - val_loss: 0.6807 - val_accuracy: 0.8814\n",
      "Epoch 45/50\n",
      "2649/2649 [==============================] - 1s 291us/step - loss: 0.0391 - accuracy: 0.9815 - val_loss: 0.7001 - val_accuracy: 0.8814\n",
      "Epoch 46/50\n",
      "2649/2649 [==============================] - 1s 374us/step - loss: 0.0384 - accuracy: 0.9815 - val_loss: 0.7160 - val_accuracy: 0.8780\n",
      "Epoch 47/50\n",
      "2649/2649 [==============================] - 1s 323us/step - loss: 0.0357 - accuracy: 0.9860 - val_loss: 0.7190 - val_accuracy: 0.8814\n",
      "Epoch 48/50\n",
      "2649/2649 [==============================] - 1s 417us/step - loss: 0.0352 - accuracy: 0.9841 - val_loss: 0.7346 - val_accuracy: 0.8814\n",
      "Epoch 49/50\n",
      "2649/2649 [==============================] - 1s 385us/step - loss: 0.0370 - accuracy: 0.9845 - val_loss: 0.7252 - val_accuracy: 0.8881\n",
      "Epoch 50/50\n",
      "2649/2649 [==============================] - 1s 405us/step - loss: 0.0389 - accuracy: 0.9815 - val_loss: 0.7011 - val_accuracy: 0.8847\n"
     ]
    },
    {
     "data": {
      "text/plain": [
       "<keras.callbacks.callbacks.History at 0x1689abcbd88>"
      ]
     },
     "execution_count": 76,
     "metadata": {},
     "output_type": "execute_result"
    }
   ],
   "source": [
    "model_conv_1 = create_conv_model()\n",
    "model_conv_1.fit(Xwords_train, y_seq_train, epochs=50, batch_size=256,verbose = 1,callbacks = [history],validation_split=0.1)"
   ]
  },
  {
   "cell_type": "code",
   "execution_count": 77,
   "metadata": {},
   "outputs": [
    {
     "name": "stdout",
     "output_type": "stream",
     "text": [
      "328/328 [==============================] - 1s 3ms/step\n",
      "Test Loss:  0.48141532409481885\n",
      "Test Accuracy:  0.9115853905677795\n"
     ]
    }
   ],
   "source": [
    "#model_conv_1.evaluate(Xwords_test,y_seq_test)\n",
    "eval_list = model_conv_1.evaluate(Xwords_test,y_seq_test)\n",
    "print('Test Loss: ',eval_list[0])\n",
    "print('Test Accuracy: ',eval_list[1])"
   ]
  },
  {
   "cell_type": "code",
   "execution_count": 79,
   "metadata": {},
   "outputs": [
    {
     "data": {
      "image/png": "[encoded data removed]",
      "text/plain": [
       "<Figure size 432x288 with 1 Axes>"
      ]
     },
     "metadata": {
      "needs_background": "light"
     },
     "output_type": "display_data"
    }
   ],
   "source": [
    "y_pred_probas = model_conv_1.predict(Xwords_test)\n",
    "y_pred_probas = [i[0] for i in y_pred_probas]\n",
    "fpr, tpr, thresholds = roc_curve(y_seq_test, y_pred_probas)\n",
    "#roc_auc = roc_auc_score(y_test, scores)\n",
    "plt.plot(fpr, tpr)\n",
    "\n",
    "plt.title(\"ROC Curve\")\n",
    "\n",
    "plt.xlabel(\"False Positive Rate\")\n",
    "\n",
    "plt.ylabel(\"True Positive Rate\")\n",
    "\n",
    "plt.show()"
   ]
  },
  {
   "cell_type": "code",
   "execution_count": 80,
   "metadata": {},
   "outputs": [
    {
     "name": "stdout",
     "output_type": "stream",
     "text": [
      "[[144  20]\n",
      " [  9 155]]\n",
      "              precision    recall  f1-score   support\n",
      "\n",
      "           0       0.94      0.88      0.91       164\n",
      "           1       0.89      0.95      0.91       164\n",
      "\n",
      "    accuracy                           0.91       328\n",
      "   macro avg       0.91      0.91      0.91       328\n",
      "weighted avg       0.91      0.91      0.91       328\n",
      "\n"
     ]
    }
   ],
   "source": [
    "y_pred = model_conv_1.predict_classes(Xwords_test)\n",
    "y_pred = [i[0] for i in y_pred]\n",
    "print(confusion_matrix(y_seq_test, y_pred))\n",
    "print(classification_report(y_seq_test,y_pred))"
   ]
  },
  {
   "cell_type": "code",
   "execution_count": 81,
   "metadata": {},
   "outputs": [
    {
     "data": {
      "image/png": "[encoded data removed]",
      "text/plain": [
       "<Figure size 432x288 with 1 Axes>"
      ]
     },
     "metadata": {
      "needs_background": "light"
     },
     "output_type": "display_data"
    }
   ],
   "source": [
    "plt.plot(history.history['accuracy'])\n",
    "plt.plot(history.history['val_accuracy'])\n",
    "plt.title('model accuracy')\n",
    "plt.ylabel('accuracy')\n",
    "plt.xlabel('epoch')\n",
    "plt.legend(['train', 'test'], loc='upper left')\n",
    "plt.show()"
   ]
  },
  {
   "cell_type": "code",
   "execution_count": 82,
   "metadata": {},
   "outputs": [
    {
     "data": {
      "image/png": "[encoded data removed]",
      "text/plain": [
       "<Figure size 432x288 with 1 Axes>"
      ]
     },
     "metadata": {
      "needs_background": "light"
     },
     "output_type": "display_data"
    }
   ],
   "source": [
    "plt.plot(history.history['loss'])\n",
    "plt.plot(history.history['val_loss'])\n",
    "plt.title('model loss')\n",
    "plt.ylabel('loss')\n",
    "plt.xlabel('epoch')\n",
    "plt.legend(['train', 'test'], loc='upper left')\n",
    "plt.show()"
   ]
  },
  {
   "cell_type": "code",
   "execution_count": null,
   "metadata": {},
   "outputs": [],
   "source": []
  },
  {
   "cell_type": "code",
   "execution_count": null,
   "metadata": {},
   "outputs": [],
   "source": []
  },
  {
   "cell_type": "code",
   "execution_count": null,
   "metadata": {},
   "outputs": [],
   "source": []
  }
 ],
 "metadata": {
  "kernelspec": {
   "display_name": "Python 3",
   "language": "python",
   "name": "python3"
  },
  "language_info": {
   "codemirror_mode": {
    "name": "ipython",
    "version": 3
   },
   "file_extension": ".py",
   "mimetype": "text/x-python",
   "name": "python",
   "nbconvert_exporter": "python",
   "pygments_lexer": "ipython3",
   "version": "3.7.7"
  }
 },
 "nbformat": 4,
 "nbformat_minor": 4
}
